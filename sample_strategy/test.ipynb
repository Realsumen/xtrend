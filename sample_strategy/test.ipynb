{
 "cells": [
  {
   "cell_type": "code",
   "execution_count": 16,
   "metadata": {},
   "outputs": [],
   "source": [
    "import tensorflow as tf\n",
    "import importlib\n",
    "import os\n",
    "import loss_functions\n",
    "import dataprocessor\n",
    "import model\n",
    "import pickle\n",
    "import change_point_detection\n",
    "from tqdm import tqdm\n",
    "from heartrate import trace\n",
    "\n",
    "def reload_custom_libs():\n",
    "    importlib.reload(loss_functions)\n",
    "    importlib.reload(dataprocessor)\n",
    "    importlib.reload(change_point_detection)\n",
    "    importlib.reload(model)\n",
    "\n",
    "\n",
    "\n",
    "reload_custom_libs()\n",
    "from change_point_detection import *\n",
    "from loss_functions import *\n",
    "from model import *\n",
    "from dataprocessor import *\n",
    "\n",
    "macd_timescales = [(8, 24), (16, 28), (32, 96)]\n",
    "rtn_timescales = [1, 21, 63, 126, 252]\n",
    "timesteps = 126\n",
    "folder_path = \"data\"\n",
    "files = [f for f in os.listdir(folder_path) if f.endswith(\".csv\")][:10]"
   ]
  },
  {
   "cell_type": "code",
   "execution_count": 17,
   "metadata": {},
   "outputs": [],
   "source": [
    "# 获得高斯变点片段\n",
    "# test = (20080101, 20090101)\n",
    "gaussion_process_list = []\n",
    "# for i in tqdm(range(15)):\n",
    "#     first_date, last_date = (test[0] + 10000 * i, test[1] + 10000 * i)\n",
    "#     # 处理数据\n",
    "#     data_list = process_data_list(files, macd_timescales, rtn_timescales, first_date=first_date, last_date=last_date)\n",
    "#     print(f\"{first_date}_{last_date}数据处理完成\")\n",
    "#     # 获得断点分割片段数据\n",
    "#     try:\n",
    "#         gaussion_process_list = get_segment_list(data_list=data_list)\n",
    "#     except:\n",
    "#         continue\n",
    "#     with open(f'segments/{first_date}_{last_date}.pkl', 'wb') as f:\n",
    "#         pickle.dump(gaussion_process_list, f)\n",
    "#     # # 读取数据\n",
    "#     # with open(f'segments/{first_date}_{last_date}.pkl', 'rb') as f:\n",
    "#     #     file = pickle.load(f)\n",
    "#     #     gaussion_process_list.extend(file)\n",
    "\n",
    "\n",
    "data_list, fill_list = process_data_list(files, macd_timescales, rtn_timescales, first_date=20200101, fill=True)\n",
    "date_list = pd.to_datetime(data_list[0][\"date\"], format='%Y%m%d')\n",
    "\n",
    "pkl_files = [f for f in os.listdir(\"segments\") if f.endswith(\".pkl\")]\n",
    "for file in pkl_files:\n",
    "    with open(\"segments/\" + file, 'rb') as file:\n",
    "        data = pickle.load(file)\n",
    "        gaussion_process_list.extend(data)\n"
   ]
  },
  {
   "cell_type": "markdown",
   "metadata": {},
   "source": [
    "# 预测数据预处理"
   ]
  },
  {
   "cell_type": "code",
   "execution_count": 18,
   "metadata": {},
   "outputs": [],
   "source": [
    "reload_custom_libs()\n",
    "from change_point_detection import *\n",
    "from loss_functions import *\n",
    "from model import ModelWrapper\n",
    "from dataprocessor import *\n"
   ]
  },
  {
   "cell_type": "code",
   "execution_count": 19,
   "metadata": {},
   "outputs": [
    {
     "name": "stderr",
     "output_type": "stream",
     "text": [
      "生成张量, 并对类别信息进行one-hot 编码:   0%|          | 0/10 [00:00<?, ?it/s]"
     ]
    },
    {
     "name": "stderr",
     "output_type": "stream",
     "text": [
      "生成张量, 并对类别信息进行one-hot 编码: 100%|██████████| 10/10 [00:02<00:00,  4.47it/s]\n"
     ]
    },
    {
     "name": "stdout",
     "output_type": "stream",
     "text": [
      "one-hot 编码中...\n"
     ]
    }
   ],
   "source": [
    "# 生成数据： target_set 和 context_set\n",
    "asset_num, context_num = 10, 20\n",
    "with open(f'map.pkl', 'rb') as f:\n",
    "    word_index = pickle.load(f)\n",
    "target_set, labels, word_index = generate_tensors(data_list, time_steps=timesteps, encoder_type = \"one-hot\", word_index = word_index, return_map=True)\n",
    "target_set, context_set, labels = gaussian_data_binder(\n",
    "    data_list,\n",
    "    target_set,\n",
    "    labels,\n",
    "    map=word_index,\n",
    "    asset_num=asset_num,\n",
    "    context_num=context_num,\n",
    "    gaussion_process_list=gaussion_process_list,\n",
    ")\n",
    "\n",
    "# 设置参数\n",
    "target_std = tf.cast(5e-2, tf.float64)\n",
    "hidden_dim = 64  # 128\n",
    "warm_up = 63\n",
    "features_len = len(macd_timescales) + len(rtn_timescales)"
   ]
  },
  {
   "cell_type": "markdown",
   "metadata": {},
   "source": [
    "# 预测模型初始化"
   ]
  },
  {
   "cell_type": "code",
   "execution_count": 20,
   "metadata": {},
   "outputs": [],
   "source": [
    "x, s, labels = target_set[0], target_set[-1], labels\n",
    "batch_size = 60\n",
    "x_c_rtn, x_c, s_c = context_set[0], context_set[0][:, :, :, 1:], context_set[-1]\n",
    "dataset = tf.data.Dataset.from_tensor_slices((x_c, x_c_rtn, s_c, x, s, labels))\n",
    "dataset = dataset.batch(batch_size, drop_remainder=False)\n",
    "\n",
    "timesteps = x.shape[-2]\n",
    "features_len = x.shape[-1]\n",
    "encoding_size = s.shape[-1]\n",
    "x_shape = (None, asset_num, timesteps, features_len)\n",
    "s_shape = (None, asset_num, timesteps, encoding_size)\n",
    "\n",
    "xtrend_model = ModelWrapper(features_len, hidden_dim, encoding_size, num_heads=4, dropout_rate=0.4)\n",
    "xtrend_model.build((x_shape, s_shape))\n",
    "xtrend_model.load_weights('model_/117_loss_-74.94.keras')"
   ]
  },
  {
   "cell_type": "markdown",
   "metadata": {},
   "source": [
    "# 进行预测"
   ]
  },
  {
   "cell_type": "code",
   "execution_count": 21,
   "metadata": {},
   "outputs": [
    {
     "name": "stderr",
     "output_type": "stream",
     "text": [
      "100%|██████████| 17/17 [00:42<00:00,  2.52s/it]\n"
     ]
    }
   ],
   "source": [
    "all_properties = []\n",
    "all_positions = []\n",
    "fill_list = fill_list\n",
    "\n",
    "# 进行预测\n",
    "for batch in tqdm(dataset):\n",
    "    x_c_batch, x_c_rtn_batch, s_c_batch, x_batch, s_batch, labels_batch = batch\n",
    "    properties, positions = xtrend_model(x_c_batch, x_c_rtn_batch, s_c_batch, x_batch, s_batch)\n",
    "    all_properties.append(properties)\n",
    "    all_positions.append(positions)"
   ]
  },
  {
   "cell_type": "code",
   "execution_count": null,
   "metadata": {},
   "outputs": [],
   "source": [
    "# all_properties = []\n",
    "# all_positions = []\n",
    "# fill_list = fill_list\n",
    "\n",
    "# # 进行预测\n",
    "# for batch in tqdm(dataset):\n",
    "#     x_c_batch, x_c_rtn_batch, s_c_batch, x_batch, s_batch, labels_batch = batch\n",
    "#     properties, positions = xtrend_model(x_c_batch, x_c_rtn_batch, s_c_batch, x_batch, s_batch)\n",
    "#     all_properties.append(properties)\n",
    "#     all_positions.append(positions)\n",
    "    \n",
    "#     mask_properties = tf.constant([i not in fill_list for i in range(all_positions_tensor.shape[-1])])\n",
    "#     print(positions.shape)\n",
    "#     _positions_tensor = tf.boolean_mask(positions, mask_properties, axis=1)\n",
    "#     _labels_tensor = tf.boolean_mask(labels_batch, mask_properties, axis=1)\n",
    "\n",
    "#     v = sharpe_loss(\n",
    "#         _positions_tensor,\n",
    "#         _labels_tensor,\n",
    "#         target_std,\n",
    "#         warm_up=warm_up,\n",
    "#     )\n",
    "#     print(v)"
   ]
  },
  {
   "cell_type": "code",
   "execution_count": 23,
   "metadata": {},
   "outputs": [
    {
     "name": "stdout",
     "output_type": "stream",
     "text": [
      "Properties Tensor Shape: (969, 9, 2)\n",
      "Positions Tensor Shape: (969, 9)\n",
      "labels Tensor Shape: (969, 9, 2)\n",
      "rtn Tensor Shape: (969, 9)\n"
     ]
    }
   ],
   "source": [
    "# 将所有的预测结果合并成一个tensor, 只取最后一个时间步作为下一日的预测输出\n",
    "all_properties_tensor = tf.concat(all_properties, axis=0)[:, :, -1, :]\n",
    "all_positions_tensor = tf.reduce_mean(tf.concat(all_positions, axis=0), axis=-1)\n",
    "all_labels = labels[:, :, -1, :]\n",
    "mask_properties = tf.constant([i not in fill_list for i in range(all_positions_tensor.shape[-1])])\n",
    "\n",
    "# 取特征和持仓，并过滤掉不可以使用的资产\n",
    "filtered_properties_tensor = tf.boolean_mask(all_properties_tensor, mask_properties, axis=-2)\n",
    "filtered_positions_tensor = tf.boolean_mask(all_positions_tensor, mask_properties, axis=1)\n",
    "filtered_labels_tensor = tf.boolean_mask(all_labels, mask_properties, axis=1)\n",
    "filtered_rtn = filtered_labels_tensor[:, :, 0]\n",
    "\n",
    "# 输出合并后的tensor\n",
    "print(\"Properties Tensor Shape:\", filtered_properties_tensor.shape)\n",
    "print(\"Positions Tensor Shape:\", filtered_positions_tensor.shape)\n",
    "print(\"labels Tensor Shape:\", filtered_labels_tensor.shape)\n",
    "print(\"rtn Tensor Shape:\", filtered_rtn.shape)"
   ]
  },
  {
   "cell_type": "code",
   "execution_count": 24,
   "metadata": {},
   "outputs": [],
   "source": [
    "reload_custom_libs()\n",
    "from change_point_detection import *\n",
    "from loss_functions import*\n",
    "from model import ModelWrapper\n",
    "from dataprocessor import *"
   ]
  },
  {
   "cell_type": "code",
   "execution_count": 26,
   "metadata": {},
   "outputs": [],
   "source": [
    "rtn_tensor = filtered_rtn * filtered_positions_tensor\n",
    "portfolio_rtn_tensor = tf.reduce_sum(rtn_tensor, axis=1)\n",
    "portfolio_rtn_numpy = (1 + portfolio_rtn_tensor.numpy()).cumprod()\n",
    "portfolio_rtn_series = pd.Series(portfolio_rtn_numpy, index=date_list[-portfolio_rtn_numpy.shape[0]:].reset_index()[\"date\"])\n",
    "portfolio_rtn_tensor.numpy().mean() / portfolio_rtn_tensor.numpy().std()"
   ]
  },
  {
   "cell_type": "code",
   "execution_count": 28,
   "metadata": {},
   "outputs": [
    {
     "data": {
      "text/plain": [
       "<Axes: xlabel='date'>"
      ]
     },
     "execution_count": 28,
     "metadata": {},
     "output_type": "execute_result"
    },
    {
     "data": {
      "image/png": "[encoded data removed]",
      "text/plain": [
       "<Figure size 640x480 with 1 Axes>"
      ]
     },
     "metadata": {},
     "output_type": "display_data"
    }
   ],
   "source": [
    "portfolio_rtn_series = pd.Series(portfolio_rtn_numpy, index=date_list[-portfolio_rtn_numpy.shape[0]:].reset_index()[\"date\"])\n",
    "portfolio_rtn_series.plot()\n"
   ]
  },
  {
   "cell_type": "code",
   "execution_count": null,
   "metadata": {},
   "outputs": [],
   "source": [
    "portfolio_rtn_series"
   ]
  },
  {
   "cell_type": "code",
   "execution_count": null,
   "metadata": {},
   "outputs": [],
   "source": []
  }
 ],
 "metadata": {
  "kernelspec": {
   "display_name": "xtrend-env",
   "language": "python",
   "name": "python3"
  },
  "language_info": {
   "codemirror_mode": {
    "name": "ipython",
    "version": 3
   },
   "file_extension": ".py",
   "mimetype": "text/x-python",
   "name": "python",
   "nbconvert_exporter": "python",
   "pygments_lexer": "ipython3",
   "version": "3.11.9"
  }
 },
 "nbformat": 4,
 "nbformat_minor": 2
}
