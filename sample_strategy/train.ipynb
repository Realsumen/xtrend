{
 "cells": [
  {
   "cell_type": "code",
   "execution_count": 9,
   "metadata": {},
   "outputs": [],
   "source": [
    "import tensorflow as tf\n",
    "import importlib\n",
    "import os\n",
    "import loss_functions\n",
    "import dataprocessor\n",
    "import model\n",
    "import pickle\n",
    "import change_point_detection\n",
    "from tqdm import tqdm\n",
    "from heartrate import trace\n",
    "\n",
    "def reload_custom_libs():\n",
    "    importlib.reload(loss_functions)\n",
    "    importlib.reload(dataprocessor)\n",
    "    importlib.reload(change_point_detection)\n",
    "    importlib.reload(model)\n",
    "\n",
    "\n",
    "\n",
    "reload_custom_libs()\n",
    "from change_point_detection import *\n",
    "from loss_functions import *\n",
    "from model import *\n",
    "from dataprocessor import *\n",
    "\n",
    "macd_timescales = [(8, 24), (16, 28), (32, 96)]\n",
    "rtn_timescales = [1, 21, 63, 126, 252]\n",
    "timesteps = 126\n",
    "folder_path = \"data\"\n",
    "files = [f for f in os.listdir(folder_path) if f.endswith(\".csv\")][:10]"
   ]
  },
  {
   "cell_type": "code",
   "execution_count": 3,
   "metadata": {},
   "outputs": [],
   "source": [
    "# 获得高斯变点片段\n",
    "# test = [0, 200]\n",
    "gaussion_process_list = []\n",
    "# for i in tqdm(range(15)):\n",
    "#     lines = [test[0] + 200 * i, test[1] + 200 * i]\n",
    "#     # 处理数据\n",
    "#     data_list = process_data_list(files, macd_timescales, rtn_timescales, test=lines)\n",
    "#     print(f\"{lines[0]}_{lines[1]}数据处理完成\")\n",
    "#     # 获得断点分割片段数据\n",
    "#     try:\n",
    "#         gaussion_process_list = get_segment_list(data_list=data_list)\n",
    "#     except:\n",
    "#         continue\n",
    "#     with open(f'segments/{lines[0]}_{lines[1]}.pkl', 'wb') as f:\n",
    "#         pickle.dump(gaussion_process_list, f)\n",
    "#     # 读取数据\n",
    "#     with open(f'segments/{lines[0]}_{lines[1]}.pkl', 'rb') as f:\n",
    "#         file = pickle.load(f)\n",
    "#         gaussion_process_list.extend(file)\n",
    "\n",
    "\n",
    "data_list = process_data_list(files, macd_timescales, rtn_timescales, last_date=20211231)\n",
    "\n",
    "pkl_files = [f for f in os.listdir(\"segments\") if f.endswith(\".pkl\")]\n",
    "for file in pkl_files:\n",
    "    with open(\"segments/\" + file, 'rb') as file:\n",
    "        data = pickle.load(file)\n",
    "        gaussion_process_list.extend(data)"
   ]
  },
  {
   "cell_type": "markdown",
   "metadata": {},
   "source": [
    "# 模型初始化"
   ]
  },
  {
   "cell_type": "code",
   "execution_count": 17,
   "metadata": {},
   "outputs": [],
   "source": [
    "reload_custom_libs()\n",
    "from change_point_detection import *\n",
    "from loss_functions import *\n",
    "from model import ModelWrapper\n",
    "from dataprocessor import *\n"
   ]
  },
  {
   "cell_type": "code",
   "execution_count": 11,
   "metadata": {},
   "outputs": [
    {
     "name": "stderr",
     "output_type": "stream",
     "text": [
      "生成张量, 并对类别信息进行one-hot 编码: 100%|██████████| 10/10 [00:06<00:00,  1.46it/s]\n"
     ]
    },
    {
     "name": "stdout",
     "output_type": "stream",
     "text": [
      "one-hot 编码中...\n"
     ]
    }
   ],
   "source": [
    "# 生成数据： target_set 和 context_set\n",
    "asset_num, context_num = 10, 20\n",
    "target_set, labels, map = generate_tensors(data_list, time_steps=timesteps, encoder_type = \"one-hot\", return_map=True)\n",
    "target_set, context_set, labels = gaussian_data_binder(\n",
    "    data_list,\n",
    "    target_set,\n",
    "    labels,\n",
    "    map=map,\n",
    "    asset_num=asset_num,\n",
    "    context_num=context_num,\n",
    "    gaussion_process_list=gaussion_process_list,\n",
    ")\n",
    "\n",
    "# 设置参数\n",
    "target_std = tf.cast(5e-2, tf.float64)\n",
    "hidden_dim = 64  # 128\n",
    "warm_up = 63\n",
    "features_len = len(macd_timescales) + len(rtn_timescales)"
   ]
  },
  {
   "cell_type": "code",
   "execution_count": 34,
   "metadata": {},
   "outputs": [],
   "source": [
    "# declare 数据, 初始化数据集\n",
    "x, s = target_set[0], target_set[-1]\n",
    "x_c_rtn, x_c, s_c = context_set[0], context_set[0][:, :, :, 1:], context_set[-1]\n",
    "dataset = tf.data.Dataset.from_tensor_slices((x_c, x_c_rtn, s_c, x, s, labels))\n",
    "\n",
    "timesteps = x.shape[-2]\n",
    "features_len = x.shape[-1]\n",
    "encoding_size = s.shape[-1]\n",
    "x_shape = (None, asset_num, timesteps, features_len)\n",
    "s_shape = (None, asset_num, timesteps, encoding_size)\n",
    "\n",
    "# 初始化模型\n",
    "xtrend_model = ModelWrapper(features_len, hidden_dim, encoding_size, num_heads=4, dropout_rate=0.4)\n",
    "xtrend_model.build((x_shape, s_shape))"
   ]
  },
  {
   "cell_type": "markdown",
   "metadata": {},
   "source": [
    "# 训练模型"
   ]
  },
  {
   "cell_type": "code",
   "execution_count": 35,
   "metadata": {},
   "outputs": [],
   "source": [
    "# # 训练模型脚本 depreciated\n",
    "# def train(model, dataset: tf.data.Dataset, batch_num: int, num_epochs: int, alpha: float):\n",
    "\n",
    "#     optimizer = tf.keras.optimizers.Adam(learning_rate=1e-3)\n",
    "#     dataset = dataset.shuffle(buffer_size=10000).batch(batch_num)\n",
    "\n",
    "#     for epoch in range(num_epochs):\n",
    "#         iter_count = 0\n",
    "#         for batch_data in tqdm(dataset, desc=f\"训练中...epoch{epoch}\"):\n",
    "#             # 对每一个批次进行处理\n",
    "#             x_c, x_c_rtn, s_c, x, s, labels = batch_data\n",
    "#             with tf.GradientTape() as tape:\n",
    "#                 result = model(x_c, x_c_rtn, s_c, x, s)\n",
    "#                 joint_loss, mle, sharpe = joint_loss_function(\n",
    "#                     result, labels, target_std, warm_up, alpha=alpha\n",
    "#                 )\n",
    "#             grads = tape.gradient(joint_loss, model.trainable_variables)\n",
    "#             optimizer.apply_gradients(zip(grads, model.trainable_variables))\n",
    "\n",
    "#             iter_count += 1\n",
    "#             if iter_count % 1 == 0 and True:\n",
    "#                 print(\n",
    "#                     f\"Epoch {epoch+1}/{num_epochs}, Iteration {iter_count}, Loss: {joint_loss.numpy()}, MLE: {mle.numpy()}, Sharpe: {sharpe.numpy()}\"\n",
    "#                 )\n",
    "\n",
    "#         print(f\"Epoch {epoch+1}/{num_epochs}, Loss: {joint_loss.numpy()}\")\n",
    "\n",
    "# # 初始化模型\n",
    "# model = ModelWrapper(features_len, hidden_dim, encoding_size, num_heads=4)\n",
    "# model.build((x_shape, s_shape))\n",
    "# result = train(model, dataset, batch_num=64, num_epochs=100, alpha = 1e-2)"
   ]
  },
  {
   "cell_type": "code",
   "execution_count": 42,
   "metadata": {},
   "outputs": [],
   "source": [
    "# 训练模型\n",
    "def train(model, dataset: tf.data.Dataset, batch_num: int, num_epochs: int, alpha: float, validation_split: float = 0.2, early_stopping_patience: int = 10):\n",
    "    # 将数据集拆分为训练集和验证集\n",
    "    dataset = dataset.shuffle(buffer_size=10000)\n",
    "    total_size = len(dataset)\n",
    "    val_size = int(total_size * validation_split)\n",
    "    train_size = total_size - val_size\n",
    "\n",
    "    train_dataset = dataset.take(train_size).batch(batch_num)\n",
    "    val_dataset = dataset.skip(train_size).batch(batch_num)\n",
    "\n",
    "    optimizer = tf.keras.optimizers.Adam(learning_rate=1e-3, clipnorm=100.0)\n",
    "    best_val_loss = np.inf\n",
    "    \n",
    "    for epoch in range(num_epochs):\n",
    "        iter_count = 0\n",
    "        for batch_data in tqdm(train_dataset, desc=f\"训练中...epoch{epoch}\"):\n",
    "            # 对每一个批次进行处理\n",
    "            x_c, x_c_rtn, s_c, x, s, labels = batch_data\n",
    "            with tf.GradientTape() as tape:\n",
    "                result = model(x_c, x_c_rtn, s_c, x, s)\n",
    "                joint_loss, mle, sharpe = joint_loss_function(\n",
    "                    result, labels, target_std, warm_up, alpha=alpha\n",
    "                )\n",
    "            grads = tape.gradient(joint_loss, model.trainable_variables)\n",
    "            optimizer.apply_gradients(zip(grads, model.trainable_variables))\n",
    "\n",
    "            iter_count += 1\n",
    "            # if iter_count % 20 == 0 and False:\n",
    "            #     print(\n",
    "            #         f\"Loss: {joint_loss.numpy()}, MLE: {mle.numpy()}, Sharpe: {sharpe.numpy()}\"\n",
    "            #     )\n",
    "\n",
    "        # 在每个epoch结束后，计算验证集的joint loss\n",
    "        val_joint_loss = 0.0\n",
    "        val_mle = 0.0\n",
    "        val_sharpe = 0.0\n",
    "        val_steps = 0\n",
    "        for val_batch_data in val_dataset:\n",
    "            x_c, x_c_rtn, s_c, x, s, labels = val_batch_data\n",
    "            result = model(x_c, x_c_rtn, s_c, x, s)\n",
    "            joint_loss, mle, sharpe = joint_loss_function(\n",
    "                result, labels, target_std, warm_up, alpha=alpha\n",
    "            )\n",
    "            val_joint_loss += joint_loss.numpy()\n",
    "            val_mle += mle.numpy()\n",
    "            val_sharpe += sharpe.numpy()\n",
    "            val_steps += 1\n",
    "\n",
    "        val_joint_loss /= val_steps\n",
    "        val_mle /= val_steps\n",
    "        val_sharpe /= val_steps\n",
    "        print(f\"Epoch {epoch+1}/{num_epochs}, Validation Joint Loss: {val_joint_loss:.2f}, Validation MLE: {val_mle:.2f}, Validation Sharpe: {val_sharpe:.2f}\")\n",
    "        \n",
    "        if epoch % 20 == 0:\n",
    "            model.save(f\"model/{epoch}_loss_{val_joint_loss:.2f}.keras\")\n",
    "        \n",
    "        # 早停检查\n",
    "        if val_joint_loss < best_val_loss:\n",
    "            best_val_loss = val_joint_loss\n",
    "            patience_counter = 0\n",
    "            model.save(f\"model/{epoch}_loss_{val_joint_loss:.2f}.keras\")\n",
    "        else:\n",
    "            patience_counter += 1\n",
    "            if patience_counter >= early_stopping_patience:\n",
    "                print(f\"Early stopping at epoch {epoch+1}\")\n",
    "                break\n",
    "\n"
   ]
  },
  {
   "cell_type": "code",
   "execution_count": 43,
   "metadata": {},
   "outputs": [
    {
     "name": "stderr",
     "output_type": "stream",
     "text": [
      "训练中...epoch0: 100%|██████████| 31/31 [07:53<00:00, 15.28s/it]\n"
     ]
    },
    {
     "name": "stdout",
     "output_type": "stream",
     "text": [
      "Epoch 1/500, Validation Joint Loss: -11.73, Validation MLE: 1.43, Validation Sharpe: -13.16\n"
     ]
    },
    {
     "name": "stderr",
     "output_type": "stream",
     "text": [
      "训练中...epoch1: 100%|██████████| 31/31 [06:59<00:00, 13.54s/it]\n"
     ]
    },
    {
     "name": "stdout",
     "output_type": "stream",
     "text": [
      "Epoch 2/500, Validation Joint Loss: -12.36, Validation MLE: 1.46, Validation Sharpe: -13.82\n"
     ]
    },
    {
     "name": "stderr",
     "output_type": "stream",
     "text": [
      "训练中...epoch2: 100%|██████████| 31/31 [06:52<00:00, 13.32s/it]\n"
     ]
    },
    {
     "name": "stdout",
     "output_type": "stream",
     "text": [
      "Epoch 3/500, Validation Joint Loss: -13.02, Validation MLE: 1.42, Validation Sharpe: -14.43\n"
     ]
    },
    {
     "name": "stderr",
     "output_type": "stream",
     "text": [
      "训练中...epoch3: 100%|██████████| 31/31 [06:27<00:00, 12.50s/it]\n"
     ]
    },
    {
     "name": "stdout",
     "output_type": "stream",
     "text": [
      "Epoch 4/500, Validation Joint Loss: -13.39, Validation MLE: 1.44, Validation Sharpe: -14.83\n"
     ]
    },
    {
     "name": "stderr",
     "output_type": "stream",
     "text": [
      "训练中...epoch4: 100%|██████████| 31/31 [05:50<00:00, 11.30s/it]\n"
     ]
    },
    {
     "name": "stdout",
     "output_type": "stream",
     "text": [
      "Epoch 5/500, Validation Joint Loss: -13.49, Validation MLE: 1.42, Validation Sharpe: -14.91\n"
     ]
    },
    {
     "name": "stderr",
     "output_type": "stream",
     "text": [
      "训练中...epoch5:   6%|▋         | 2/31 [00:18<04:34,  9.46s/it]"
     ]
    }
   ],
   "source": [
    "# 训练模型\n",
    "train(xtrend_model, dataset, batch_num=64, num_epochs=500, alpha=1e-3)"
   ]
  },
  {
   "cell_type": "code",
   "execution_count": null,
   "metadata": {},
   "outputs": [],
   "source": [
    "model.save(f\"final_model.keras\")"
   ]
  },
  {
   "cell_type": "code",
   "execution_count": null,
   "metadata": {},
   "outputs": [],
   "source": []
  },
  {
   "cell_type": "code",
   "execution_count": null,
   "metadata": {},
   "outputs": [],
   "source": []
  }
 ],
 "metadata": {
  "kernelspec": {
   "display_name": "xtrend-env",
   "language": "python",
   "name": "python3"
  },
  "language_info": {
   "codemirror_mode": {
    "name": "ipython",
    "version": 3
   },
   "file_extension": ".py",
   "mimetype": "text/x-python",
   "name": "python",
   "nbconvert_exporter": "python",
   "pygments_lexer": "ipython3",
   "version": "3.11.9"
  }
 },
 "nbformat": 4,
 "nbformat_minor": 2
}
