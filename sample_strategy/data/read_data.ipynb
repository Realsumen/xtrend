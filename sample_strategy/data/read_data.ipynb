{
 "cells": [
  {
   "cell_type": "code",
   "execution_count": 2,
   "metadata": {
    "vscode": {
     "languageId": "sql"
    }
   },
   "outputs": [
    {
     "ename": "SyntaxError",
     "evalue": "invalid syntax (313755162.py, line 1)",
     "output_type": "error",
     "traceback": [
      "\u001b[1;36m  Cell \u001b[1;32mIn[2], line 1\u001b[1;36m\u001b[0m\n\u001b[1;33m    SELECT * FROM dy1d_factor_ret_cne6_zx20 LIMIT 100\u001b[0m\n\u001b[1;37m                  ^\u001b[0m\n\u001b[1;31mSyntaxError\u001b[0m\u001b[1;31m:\u001b[0m invalid syntax\n"
     ]
    }
   ],
   "source": [
    "SELECT * FROM dy1d_factor_ret_cne6_zx20 LIMIT 100"
   ]
  },
  {
   "cell_type": "code",
   "execution_count": 1,
   "metadata": {},
   "outputs": [
    {
     "name": "stderr",
     "output_type": "stream",
     "text": [
      "100%|██████████| 54/54 [00:00<00:00, 188.45it/s]\n"
     ]
    }
   ],
   "source": [
    "import pandas as pd\n",
    "from sqlalchemy import create_engine, text\n",
    "from tqdm import tqdm\n",
    "\n",
    "host=\"192.168.1.111\"\n",
    "user=\"reader\"\n",
    "password=\"Reader_TT1\"\n",
    "database=\"datayesdb\"\n",
    "\n",
    "# Sample query\n",
    "sql_query = \"\"\"\n",
    "    SELECT\n",
    "        a.PARTY_ID,\n",
    "        a.TICKER_SYMBOL,\n",
    "        a.PUBLISH_DATE,\n",
    "        a.END_DATE,\n",
    "        a.CURRENCY_CD,\n",
    "        a.TOTAL_MF,\n",
    "        a.CASH_ON_HAND,\n",
    "        a.BANK_DEP,\n",
    "        a.OTH_MF,\n",
    "        a.SPEC_MF,\n",
    "        a.ADJUSTED_MF,\n",
    "        a.TOT_DEP_ABROAD,\n",
    "        a.TOT_RES_FD /*例举其中几个指标，其他字段名称见数据字典*/\n",
    "    FROM\n",
    "    fdmt_mf_item a\n",
    "    JOIN md_security b ON a.PARTY_ID = b.PARTY_ID /*关联证券主表获取证券简称*/\n",
    "    AND b.EXCHANGE_CD IN ('XSHG', 'XSHE')\n",
    "    AND b.ASSET_CLASS = 'E' /*限制为沪深股票*/\n",
    "    WHERE\n",
    "    b.SEC_SHORT_NAME LIKE '%京山轻机%' /*输入公司名称，支持模糊查询*/\n",
    "    AND a.END_DATE >= '2018-01-01'\n",
    "    ORDER BY\n",
    "    a.END_DATE DESC,\n",
    "    a.PUBLISH_DATE DESC\n",
    "\"\"\"\n",
    "\n",
    "sql_query = \"\"\"\n",
    "    SELECT \n",
    "        * \n",
    "    FROM \n",
    "        dy1d_factor_ret_cne6_zx20\n",
    "    WHERE\n",
    "        TRADE_DATE >= '20010102'\n",
    "        ORDER BY\n",
    "        TRADE_DATE\n",
    "\"\"\"\n",
    "\n",
    "engine = create_engine(f\"mysql+mysqlconnector://{user}:{password}@{host}/{database}\")\n",
    "df = pd.DataFrame(engine.connect().execute(text(sql_query))).drop(columns=[\"UPDATE_TIME\", \"ID\"]).rename(columns={\"TRADE_DATE\": \"日期\"}).set_index(\"日期\").astype(float)\n",
    "assets = df.columns.to_list()\n",
    "df = (1.0 + df).cumprod().reset_index()\n",
    "df.fillna(-1, inplace=True)\n",
    "for asset in tqdm(assets):\n",
    "    tmp = df[[\"日期\", asset]].rename(columns={asset: \"收盘价(元)\"})\n",
    "    tmp[\"日期\"] = tmp[\"日期\"].astype(str)\n",
    "    tmp.to_csv(f\"{asset}.csv\")\n"
   ]
  },
  {
   "cell_type": "code",
   "execution_count": null,
   "metadata": {},
   "outputs": [],
   "source": []
  }
 ],
 "metadata": {
  "kernelspec": {
   "display_name": "xtrend-env",
   "language": "python",
   "name": "python3"
  },
  "language_info": {
   "codemirror_mode": {
    "name": "ipython",
    "version": 3
   },
   "file_extension": ".py",
   "mimetype": "text/x-python",
   "name": "python",
   "nbconvert_exporter": "python",
   "pygments_lexer": "ipython3",
   "version": "3.11.9"
  }
 },
 "nbformat": 4,
 "nbformat_minor": 2
}
