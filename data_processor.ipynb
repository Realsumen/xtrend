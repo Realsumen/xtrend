{
 "cells": [
  {
   "cell_type": "code",
   "execution_count": 17,
   "metadata": {},
   "outputs": [],
   "source": [
    "import os\n",
    "import pandas as pd\n",
    "from tqdm import tqdm\n",
    "import tensorflow as tf\n",
    "import numpy as np\n",
    "import importlib\n",
    "import dataprocessor"
   ]
  },
  {
   "cell_type": "code",
   "execution_count": null,
   "metadata": {},
   "outputs": [],
   "source": [
    "import models\n",
    "importlib.reload(models)\n",
    "importlib.reload(dataprocessor)\n",
    "from models import *\n",
    "from dataprocessor import *\n",
    "\n",
    "target_vol = 21, 5e-2\n",
    "macd_timescales = {(8, 24), (16, 28), (32, 96)}\n",
    "rtn_timescales = {1, 21, 63, 126, 252}\n",
    "timesteps = 5\n",
    "\n",
    "folder_path = 'data'\n",
    "files = [f[:-5] for f in os.listdir(folder_path) if f.endswith('.xlsx')]\n",
    "files = [file for file in files if file not in (\"CC00.NYB\", \"LB00.CME\", \"ES00.CME\", \"NQ00.CME\", \"YM00.CBT\")]\n",
    "data_list = []\n",
    "\n",
    "for file in tqdm(files, desc=\"处理文件中。。\"):\n",
    "    data = pd.read_excel(f\"data/{file}.xlsx\")[[\"日期\", \"收盘价(元)\"]]\n",
    "    data = data.rename(columns={\"日期\": \"date\", \"收盘价(元)\": \"close\"}).sort_values(\"date\")\n",
    "    data[\"side_info\"] = file\n",
    "    try:\n",
    "        data = generate_features(data, macd_timescales, rtn_timescales)\n",
    "    except:\n",
    "        print(file)\n",
    "    data_list.append(data)\n",
    "\n",
    "print(\"Process data into a dataset\")\n",
    "targetset = generate_tf_dataset(data_list, timesteps)"
   ]
  },
  {
   "cell_type": "code",
   "execution_count": 19,
   "metadata": {},
   "outputs": [
    {
     "ename": "NameError",
     "evalue": "name 'targetset' is not defined",
     "output_type": "error",
     "traceback": [
      "\u001b[1;31m---------------------------------------------------------------------------\u001b[0m",
      "\u001b[1;31mNameError\u001b[0m                                 Traceback (most recent call last)",
      "Cell \u001b[1;32mIn[19], line 1\u001b[0m\n\u001b[1;32m----> 1\u001b[0m \u001b[38;5;28;01mfor\u001b[39;00m features, labels \u001b[38;5;129;01min\u001b[39;00m \u001b[43mtargetset\u001b[49m\u001b[38;5;241m.\u001b[39mtake(\u001b[38;5;241m10\u001b[39m):\n\u001b[0;32m      2\u001b[0m     \u001b[38;5;28mprint\u001b[39m(\u001b[38;5;124m\"\u001b[39m\u001b[38;5;124mFeatures:\u001b[39m\u001b[38;5;124m\"\u001b[39m, features)\n\u001b[0;32m      3\u001b[0m     \u001b[38;5;28mprint\u001b[39m(\u001b[38;5;124m\"\u001b[39m\u001b[38;5;124mLabels:\u001b[39m\u001b[38;5;124m\"\u001b[39m, labels)\n",
      "\u001b[1;31mNameError\u001b[0m: name 'targetset' is not defined"
     ]
    }
   ],
   "source": [
    "for features, labels in targetset.take(10):\n",
    "    print(\"Features:\", features)\n",
    "    print(\"Labels:\", labels)"
   ]
  },
  {
   "cell_type": "code",
   "execution_count": null,
   "metadata": {},
   "outputs": [],
   "source": []
  }
 ],
 "metadata": {
  "kernelspec": {
   "display_name": "xtrend-env",
   "language": "python",
   "name": "python3"
  },
  "language_info": {
   "codemirror_mode": {
    "name": "ipython",
    "version": 3
   },
   "file_extension": ".py",
   "mimetype": "text/x-python",
   "name": "python",
   "nbconvert_exporter": "python",
   "pygments_lexer": "ipython3",
   "version": "3.11.9"
  }
 },
 "nbformat": 4,
 "nbformat_minor": 2
}
