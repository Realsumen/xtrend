{
 "cells": [
  {
   "cell_type": "code",
   "execution_count": 1,
   "metadata": {},
   "outputs": [],
   "source": [
    "import importlib\n",
    "import os\n",
    "from models import *\n",
    "from dataprocessor import *\n",
    "def reload_custom_libs():\n",
    "    import loss_functions\n",
    "    import models\n",
    "    import dataprocessor\n",
    "    importlib.reload(loss_functions)\n",
    "    importlib.reload(models)\n",
    "    importlib.reload(dataprocessor)"
   ]
  },
  {
   "cell_type": "code",
   "execution_count": 2,
   "metadata": {},
   "outputs": [
    {
     "name": "stderr",
     "output_type": "stream",
     "text": [
      "处理文件中。。: 100%|██████████| 11/11 [00:51<00:00,  4.68s/it]\n",
      "生成张量, 并对类别信息进行on-hot 编码: 100%|██████████| 11/11 [00:29<00:00,  2.70s/it]\n"
     ]
    },
    {
     "name": "stdout",
     "output_type": "stream",
     "text": [
      "one-hot 编码中...\n"
     ]
    },
    {
     "name": "stderr",
     "output_type": "stream",
     "text": [
      "生成张量, 并对类别信息进行on-hot 编码: 100%|██████████| 11/11 [00:33<00:00,  3.01s/it]\n"
     ]
    },
    {
     "name": "stdout",
     "output_type": "stream",
     "text": [
      "one-hot 编码中...\n"
     ]
    }
   ],
   "source": [
    "macd_timescales = [(8, 24), (16, 28), (32, 96)]\n",
    "rtn_timescales = [1, 21, 63, 126, 252]\n",
    "timesteps = 126\n",
    "\n",
    "folder_path = 'data'\n",
    "files = [f for f in os.listdir(folder_path) if f.endswith('.xlsx')]\n",
    "files = [file for file in files if file not in (\"CC00.NYB.xlsx\", \"LB00.CME.xlsx\", \"ES00.CME.xlsx\", \"NQ00.CME.xlsx\", \"YM00.CBT.xlsx\", \"SP00.CME.xlsx\")]\n",
    "data_list = []\n",
    "\n",
    "\n",
    "data_list = process_data_list(files, macd_timescales, rtn_timescales, test = False)\n",
    "target_set, labels, map = generate_tensors(data_list, timesteps, encoder_type = \"one-hot\", return_map=True)\n",
    "context_set, _ = generate_tensors(data_list, timesteps, encoder_type = \"one-hot\", contain_next_day_rtn=True)"
   ]
  },
  {
   "cell_type": "code",
   "execution_count": 3,
   "metadata": {},
   "outputs": [],
   "source": [
    "batch_size = len(files)\n",
    "# data_set = data_binder(context_set, target_set, labels, batch_size=batch_size)\n",
    "# data_set.save(f\"saved_data\")\n",
    "\n",
    "dataset = tf.data.Dataset.load(\"saved_data\")"
   ]
  },
  {
   "cell_type": "code",
   "execution_count": 4,
   "metadata": {},
   "outputs": [],
   "source": [
    "reload_custom_libs()\n",
    "from models import *\n",
    "from dataprocessor import *\n",
    "from loss_functions import *\n",
    "\n",
    "hidden_dim = 64 # 128\n",
    "warm_up = 63\n",
    "target_std = tf.cast(5e-2, tf.float64)\n",
    "features_len = len(macd_timescales) + len(rtn_timescales)\n",
    "encoding_size = len(files) + 1\n",
    "x_shape = (batch_size, timesteps, features_len)\n",
    "s_shape = (batch_size, timesteps, encoding_size)\n",
    "\n",
    "model = ModelWrapper(features_len, hidden_dim, encoding_size, num_heads = 4)\n",
    "model.build((x_shape, s_shape))"
   ]
  },
  {
   "cell_type": "code",
   "execution_count": null,
   "metadata": {},
   "outputs": [],
   "source": [
    "num_epochs = 100\n",
    "print_interval = 10\n",
    "\n",
    "optimizer = tf.keras.optimizers.Adam(learning_rate=1e-3)\n",
    "\n",
    "def train():\n",
    "    \n",
    "    dataset = tf.data.Dataset.load(\"saved_data\")\n",
    "    for epoch in range(num_epochs):\n",
    "        dataset = dataset.shuffle(buffer_size=10000)\n",
    "        iter_count = 0\n",
    "        for batch_data in tqdm(dataset, desc=f\"训练中...epoch{epoch}\"):\n",
    "            x_c, x_c_rtn, s_c, x, s, rtn_std, _, _ = batch_data\n",
    "            with tf.GradientTape() as tape:\n",
    "                result = model(x_c, x_c_rtn, s_c, x, s)\n",
    "                loss, mle, sharpe = joint_loss_function(result, rtn_std, target_std, warm_up, alpha=1)\n",
    "            grads = tape.gradient(loss, model.trainable_variables)\n",
    "            optimizer.apply_gradients(zip(grads, model.trainable_variables))\n",
    "            iter_count += 1\n",
    "            if iter_count % 1 == 0:\n",
    "                print(f\"Epoch {epoch+1}/{num_epochs}, Iteration {iter_count}, Loss: {loss.numpy()}, mle: {mle}, sharpe: {sharpe}\")\n",
    "\n",
    "        print(f\"Epoch {epoch+1}/{num_epochs}, Loss: {loss.numpy()}\")\n",
    "    \n",
    "result = train()"
   ]
  },
  {
   "cell_type": "code",
   "execution_count": null,
   "metadata": {},
   "outputs": [],
   "source": []
  }
 ],
 "metadata": {
  "kernelspec": {
   "display_name": "xtrend-env",
   "language": "python",
   "name": "python3"
  },
  "language_info": {
   "codemirror_mode": {
    "name": "ipython",
    "version": 3
   },
   "file_extension": ".py",
   "mimetype": "text/x-python",
   "name": "python",
   "nbconvert_exporter": "python",
   "pygments_lexer": "ipython3",
   "version": "3.11.9"
  }
 },
 "nbformat": 4,
 "nbformat_minor": 2
}
