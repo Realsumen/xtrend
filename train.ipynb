{
 "cells": [
  {
   "cell_type": "code",
   "execution_count": 1,
   "metadata": {},
   "outputs": [],
   "source": [
    "import tensorflow as tf\n",
    "import importlib\n",
    "import os\n",
    "import loss_functions\n",
    "import dataprocessor\n",
    "import model\n",
    "import change_point_detection\n",
    "from tqdm import tqdm\n",
    "\n",
    "def reload_custom_libs():\n",
    "    importlib.reload(loss_functions)\n",
    "    importlib.reload(dataprocessor)\n",
    "    importlib.reload(change_point_detection)\n",
    "    importlib.reload(model)\n",
    "reload_custom_libs()\n",
    "from change_point_detection import *\n",
    "from loss_functions import *\n",
    "from model import *\n",
    "from dataprocessor import *\n",
    "\n",
    "macd_timescales = [(8, 24), (16, 28), (32, 96)]\n",
    "rtn_timescales = [1, 21, 63, 126, 252]\n",
    "timesteps = 126\n",
    "folder_path = \"data\"\n",
    "files = [f for f in os.listdir(folder_path) if f.endswith(\".xlsx\")]\n",
    "异常数据元组 = (\"CC00.NYB.xlsx\", \"LB00.CME.xlsx\", \"ES00.CME.xlsx\", \"NQ00.CME.xlsx\", \"YM00.CBT.xlsx\", \"SP00.CME.xlsx\")\n",
    "files = [file for file in files if file not in 异常数据元组]"
   ]
  },
  {
   "cell_type": "code",
   "execution_count": 2,
   "metadata": {},
   "outputs": [
    {
     "name": "stderr",
     "output_type": "stream",
     "text": [
      "处理文件中。。: 100%|██████████| 11/11 [00:30<00:00,  2.82s/it]\n"
     ]
    }
   ],
   "source": [
    "# 加载文件\n",
    "data_list = process_data_list(files, macd_timescales, rtn_timescales, test=200)\n",
    "# data_list = process_data_list(files, macd_timescales, rtn_timescales)"
   ]
  },
  {
   "cell_type": "code",
   "execution_count": 3,
   "metadata": {},
   "outputs": [
    {
     "name": "stderr",
     "output_type": "stream",
     "text": [
      "  0%|          | 0/11 [00:00<?, ?it/s]"
     ]
    },
    {
     "name": "stdout",
     "output_type": "stream",
     "text": [
      "100\n"
     ]
    },
    {
     "name": "stderr",
     "output_type": "stream",
     "text": [
      "  9%|▉         | 1/11 [01:28<14:41, 88.18s/it]2024-07-03 22:24:32.486283: W tensorflow/core/framework/local_rendezvous.cc:404] Local rendezvous is aborting with status: INVALID_ARGUMENT: desired shape must be a DT_INT32 or DT_INT64 vector, not a float\n",
      "\t [[{{node Reshape_1}}]]\n",
      "  9%|▉         | 1/11 [02:08<21:29, 128.92s/it]\n"
     ]
    },
    {
     "ename": "InvalidArgumentError",
     "evalue": "Graph execution error:\n\nDetected at node Reshape_1 defined at (most recent call last):\n  File \"<frozen runpy>\", line 198, in _run_module_as_main\n\n  File \"<frozen runpy>\", line 88, in _run_code\n\n  File \"/Users/sumen/anaconda3/envs/xtrend-env/lib/python3.11/site-packages/ipykernel_launcher.py\", line 18, in <module>\n\n  File \"/Users/sumen/anaconda3/envs/xtrend-env/lib/python3.11/site-packages/traitlets/config/application.py\", line 1075, in launch_instance\n\n  File \"/Users/sumen/anaconda3/envs/xtrend-env/lib/python3.11/site-packages/ipykernel/kernelapp.py\", line 739, in start\n\n  File \"/Users/sumen/anaconda3/envs/xtrend-env/lib/python3.11/site-packages/tornado/platform/asyncio.py\", line 205, in start\n\n  File \"/Users/sumen/anaconda3/envs/xtrend-env/lib/python3.11/asyncio/base_events.py\", line 608, in run_forever\n\n  File \"/Users/sumen/anaconda3/envs/xtrend-env/lib/python3.11/asyncio/base_events.py\", line 1936, in _run_once\n\n  File \"/Users/sumen/anaconda3/envs/xtrend-env/lib/python3.11/asyncio/events.py\", line 84, in _run\n\n  File \"/Users/sumen/anaconda3/envs/xtrend-env/lib/python3.11/site-packages/ipykernel/kernelbase.py\", line 545, in dispatch_queue\n\n  File \"/Users/sumen/anaconda3/envs/xtrend-env/lib/python3.11/site-packages/ipykernel/kernelbase.py\", line 534, in process_one\n\n  File \"/Users/sumen/anaconda3/envs/xtrend-env/lib/python3.11/site-packages/ipykernel/kernelbase.py\", line 437, in dispatch_shell\n\n  File \"/Users/sumen/anaconda3/envs/xtrend-env/lib/python3.11/site-packages/ipykernel/ipkernel.py\", line 362, in execute_request\n\n  File \"/Users/sumen/anaconda3/envs/xtrend-env/lib/python3.11/site-packages/ipykernel/kernelbase.py\", line 778, in execute_request\n\n  File \"/Users/sumen/anaconda3/envs/xtrend-env/lib/python3.11/site-packages/ipykernel/ipkernel.py\", line 449, in do_execute\n\n  File \"/Users/sumen/anaconda3/envs/xtrend-env/lib/python3.11/site-packages/ipykernel/zmqshell.py\", line 549, in run_cell\n\n  File \"/Users/sumen/anaconda3/envs/xtrend-env/lib/python3.11/site-packages/IPython/core/interactiveshell.py\", line 3075, in run_cell\n\n  File \"/Users/sumen/anaconda3/envs/xtrend-env/lib/python3.11/site-packages/IPython/core/interactiveshell.py\", line 3130, in _run_cell\n\n  File \"/Users/sumen/anaconda3/envs/xtrend-env/lib/python3.11/site-packages/IPython/core/async_helpers.py\", line 129, in _pseudo_sync_runner\n\n  File \"/Users/sumen/anaconda3/envs/xtrend-env/lib/python3.11/site-packages/IPython/core/interactiveshell.py\", line 3334, in run_cell_async\n\n  File \"/Users/sumen/anaconda3/envs/xtrend-env/lib/python3.11/site-packages/IPython/core/interactiveshell.py\", line 3517, in run_ast_nodes\n\n  File \"/Users/sumen/anaconda3/envs/xtrend-env/lib/python3.11/site-packages/IPython/core/interactiveshell.py\", line 3577, in run_code\n\n  File \"/var/folders/n_/qw7pwss90l9b2pz6w26kgpj00000gn/T/ipykernel_95280/1786508536.py\", line 4, in <module>\n\n  File \"/Users/sumen/Documents/code/workspace/xtrend/change_point_detection.py\", line 113, in get_segment_list\n\n  File \"/Users/sumen/Documents/code/workspace/xtrend/change_point_detection.py\", line 61, in get_segment_points\n\n  File \"/Users/sumen/anaconda3/envs/xtrend-env/lib/python3.11/site-packages/gpflow/optimizers/scipy.py\", line 159, in minimize\n\n  File \"/Users/sumen/anaconda3/envs/xtrend-env/lib/python3.11/site-packages/scipy/optimize/_minimize.py\", line 731, in minimize\n\n  File \"/Users/sumen/anaconda3/envs/xtrend-env/lib/python3.11/site-packages/scipy/optimize/_lbfgsb_py.py\", line 347, in _minimize_lbfgsb\n\n  File \"/Users/sumen/anaconda3/envs/xtrend-env/lib/python3.11/site-packages/scipy/optimize/_optimize.py\", line 288, in _prepare_scalar_function\n\n  File \"/Users/sumen/anaconda3/envs/xtrend-env/lib/python3.11/site-packages/scipy/optimize/_differentiable_functions.py\", line 222, in __init__\n\n  File \"/Users/sumen/anaconda3/envs/xtrend-env/lib/python3.11/site-packages/scipy/optimize/_differentiable_functions.py\", line 294, in _update_fun\n\n  File \"/Users/sumen/anaconda3/envs/xtrend-env/lib/python3.11/site-packages/scipy/optimize/_differentiable_functions.py\", line 20, in wrapped\n\n  File \"/Users/sumen/anaconda3/envs/xtrend-env/lib/python3.11/site-packages/scipy/optimize/_optimize.py\", line 79, in __call__\n\n  File \"/Users/sumen/anaconda3/envs/xtrend-env/lib/python3.11/site-packages/scipy/optimize/_optimize.py\", line 73, in _compute_if_needed\n\n  File \"/Users/sumen/anaconda3/envs/xtrend-env/lib/python3.11/site-packages/gpflow/optimizers/scipy.py\", line 224, in _eval\n\n  File \"/Users/sumen/anaconda3/envs/xtrend-env/lib/python3.11/site-packages/gpflow/optimizers/scipy.py\", line 187, in _tf_eval\n\n  File \"/Users/sumen/anaconda3/envs/xtrend-env/lib/python3.11/site-packages/gpflow/optimizers/scipy.py\", line 304, in unpack_tensors\n\n  File \"/Users/sumen/anaconda3/envs/xtrend-env/lib/python3.11/site-packages/gpflow/optimizers/scipy.py\", line 309, in unpack_tensors\n\ndesired shape must be a DT_INT32 or DT_INT64 vector, not a float\n\t [[{{node Reshape_1}}]] [Op:__inference__tf_eval_609006]",
     "output_type": "error",
     "traceback": [
      "\u001b[0;31m---------------------------------------------------------------------------\u001b[0m",
      "\u001b[0;31mInvalidArgumentError\u001b[0m                      Traceback (most recent call last)",
      "Cell \u001b[0;32mIn[3], line 4\u001b[0m\n\u001b[1;32m      1\u001b[0m \u001b[38;5;66;03m# 跑过一次的话，不要再跑入这个\u001b[39;00m\n\u001b[1;32m      2\u001b[0m \n\u001b[1;32m      3\u001b[0m \u001b[38;5;66;03m# 获得断点分割片段数据\u001b[39;00m\n\u001b[0;32m----> 4\u001b[0m gaussion_process_list \u001b[38;5;241m=\u001b[39m \u001b[43mget_segment_list\u001b[49m\u001b[43m(\u001b[49m\u001b[43mdata_list\u001b[49m\u001b[38;5;241;43m=\u001b[39;49m\u001b[43mdata_list\u001b[49m\u001b[43m)\u001b[49m\n",
      "File \u001b[0;32m~/Documents/code/workspace/xtrend/change_point_detection.py:113\u001b[0m, in \u001b[0;36mget_segment_list\u001b[0;34m(data_list)\u001b[0m\n\u001b[1;32m    111\u001b[0m price_series \u001b[38;5;241m=\u001b[39m data[\u001b[38;5;124m\"\u001b[39m\u001b[38;5;124mclose\u001b[39m\u001b[38;5;124m\"\u001b[39m]\n\u001b[1;32m    112\u001b[0m target \u001b[38;5;241m=\u001b[39m price_series\u001b[38;5;241m.\u001b[39mto_numpy()\u001b[38;5;241m.\u001b[39mreshape((\u001b[38;5;241m-\u001b[39m\u001b[38;5;241m1\u001b[39m, \u001b[38;5;241m1\u001b[39m))\n\u001b[0;32m--> 113\u001b[0m segment_list \u001b[38;5;241m=\u001b[39m \u001b[43mget_segment_points\u001b[49m\u001b[43m(\u001b[49m\u001b[43mtarget\u001b[49m\u001b[43m,\u001b[49m\u001b[43m \u001b[49m\u001b[43ml_max\u001b[49m\u001b[38;5;241;43m=\u001b[39;49m\u001b[38;5;241;43m63\u001b[39;49m\u001b[43m,\u001b[49m\u001b[43m \u001b[49m\u001b[43mmu\u001b[49m\u001b[38;5;241;43m=\u001b[39;49m\u001b[38;5;241;43m0.999\u001b[39;49m\u001b[43m)\u001b[49m\n\u001b[1;32m    114\u001b[0m segment_list \u001b[38;5;241m=\u001b[39m [data\u001b[38;5;241m.\u001b[39miloc[start : end, :] \u001b[38;5;28;01mfor\u001b[39;00m start, end \u001b[38;5;129;01min\u001b[39;00m segment_list]\n\u001b[1;32m    115\u001b[0m gaussion_process_list\u001b[38;5;241m.\u001b[39mextend(segment_list)\n",
      "File \u001b[0;32m~/Documents/code/workspace/xtrend/change_point_detection.py:61\u001b[0m, in \u001b[0;36mget_segment_points\u001b[0;34m(Y, l_max, mu, l_min, lbw, steepness)\u001b[0m\n\u001b[1;32m     57\u001b[0m gpr_model_base \u001b[38;5;241m=\u001b[39m gpflow\u001b[38;5;241m.\u001b[39mmodels\u001b[38;5;241m.\u001b[39mGPR(\n\u001b[1;32m     58\u001b[0m     data\u001b[38;5;241m=\u001b[39m(x, y), kernel\u001b[38;5;241m=\u001b[39mchangepoint_kernel, mean_function\u001b[38;5;241m=\u001b[39m\u001b[38;5;28;01mNone\u001b[39;00m\n\u001b[1;32m     59\u001b[0m )\n\u001b[1;32m     60\u001b[0m opt \u001b[38;5;241m=\u001b[39m gpflow\u001b[38;5;241m.\u001b[39moptimizers\u001b[38;5;241m.\u001b[39mScipy()\n\u001b[0;32m---> 61\u001b[0m \u001b[43mopt\u001b[49m\u001b[38;5;241;43m.\u001b[39;49m\u001b[43mminimize\u001b[49m\u001b[43m(\u001b[49m\n\u001b[1;32m     62\u001b[0m \u001b[43m    \u001b[49m\u001b[43mgpr_model_base\u001b[49m\u001b[38;5;241;43m.\u001b[39;49m\u001b[43mtraining_loss\u001b[49m\u001b[43m,\u001b[49m\u001b[43m \u001b[49m\u001b[43mvariables\u001b[49m\u001b[38;5;241;43m=\u001b[39;49m\u001b[43mgpr_model_base\u001b[49m\u001b[38;5;241;43m.\u001b[39;49m\u001b[43mtrainable_variables\u001b[49m\n\u001b[1;32m     63\u001b[0m \u001b[43m\u001b[49m\u001b[43m)\u001b[49m\n\u001b[1;32m     64\u001b[0m nlml_C \u001b[38;5;241m=\u001b[39m gpr_model_base\u001b[38;5;241m.\u001b[39mtraining_loss()\u001b[38;5;241m.\u001b[39mnumpy()\n\u001b[1;32m     66\u001b[0m \u001b[38;5;66;03m# 初始化，拟合一个高斯过程模型\u001b[39;00m\n",
      "File \u001b[0;32m~/anaconda3/envs/xtrend-env/lib/python3.11/site-packages/gpflow/optimizers/scipy.py:159\u001b[0m, in \u001b[0;36mScipy.minimize\u001b[0;34m(self, closure, variables, method, step_callback, compile, allow_unused_variables, tf_fun_args, track_loss_history, **scipy_kwargs)\u001b[0m\n\u001b[1;32m    156\u001b[0m     callback \u001b[38;5;241m=\u001b[39m \u001b[38;5;28mself\u001b[39m\u001b[38;5;241m.\u001b[39mloss_history_callback_func(func, history, scipy_kwargs\u001b[38;5;241m.\u001b[39mget(\u001b[38;5;124m\"\u001b[39m\u001b[38;5;124mcallback\u001b[39m\u001b[38;5;124m\"\u001b[39m))\n\u001b[1;32m    157\u001b[0m     scipy_kwargs[\u001b[38;5;124m\"\u001b[39m\u001b[38;5;124mcallback\u001b[39m\u001b[38;5;124m\"\u001b[39m] \u001b[38;5;241m=\u001b[39m callback\n\u001b[0;32m--> 159\u001b[0m opt_result \u001b[38;5;241m=\u001b[39m \u001b[43mscipy\u001b[49m\u001b[38;5;241;43m.\u001b[39;49m\u001b[43moptimize\u001b[49m\u001b[38;5;241;43m.\u001b[39;49m\u001b[43mminimize\u001b[49m\u001b[43m(\u001b[49m\n\u001b[1;32m    160\u001b[0m \u001b[43m    \u001b[49m\u001b[43mfunc\u001b[49m\u001b[43m,\u001b[49m\u001b[43m \u001b[49m\u001b[43minitial_params\u001b[49m\u001b[43m,\u001b[49m\u001b[43m \u001b[49m\u001b[43mjac\u001b[49m\u001b[38;5;241;43m=\u001b[39;49m\u001b[38;5;28;43;01mTrue\u001b[39;49;00m\u001b[43m,\u001b[49m\u001b[43m \u001b[49m\u001b[43mmethod\u001b[49m\u001b[38;5;241;43m=\u001b[39;49m\u001b[43mmethod\u001b[49m\u001b[43m,\u001b[49m\u001b[43m \u001b[49m\u001b[38;5;241;43m*\u001b[39;49m\u001b[38;5;241;43m*\u001b[39;49m\u001b[43mscipy_kwargs\u001b[49m\n\u001b[1;32m    161\u001b[0m \u001b[43m\u001b[49m\u001b[43m)\u001b[49m\n\u001b[1;32m    163\u001b[0m \u001b[38;5;28;01mif\u001b[39;00m track_loss_history:\n\u001b[1;32m    164\u001b[0m     opt_result[\u001b[38;5;124m\"\u001b[39m\u001b[38;5;124mloss_history\u001b[39m\u001b[38;5;124m\"\u001b[39m] \u001b[38;5;241m=\u001b[39m history\n",
      "File \u001b[0;32m~/anaconda3/envs/xtrend-env/lib/python3.11/site-packages/scipy/optimize/_minimize.py:731\u001b[0m, in \u001b[0;36mminimize\u001b[0;34m(fun, x0, args, method, jac, hess, hessp, bounds, constraints, tol, callback, options)\u001b[0m\n\u001b[1;32m    728\u001b[0m     res \u001b[38;5;241m=\u001b[39m _minimize_newtoncg(fun, x0, args, jac, hess, hessp, callback,\n\u001b[1;32m    729\u001b[0m                              \u001b[38;5;241m*\u001b[39m\u001b[38;5;241m*\u001b[39moptions)\n\u001b[1;32m    730\u001b[0m \u001b[38;5;28;01melif\u001b[39;00m meth \u001b[38;5;241m==\u001b[39m \u001b[38;5;124m'\u001b[39m\u001b[38;5;124ml-bfgs-b\u001b[39m\u001b[38;5;124m'\u001b[39m:\n\u001b[0;32m--> 731\u001b[0m     res \u001b[38;5;241m=\u001b[39m \u001b[43m_minimize_lbfgsb\u001b[49m\u001b[43m(\u001b[49m\u001b[43mfun\u001b[49m\u001b[43m,\u001b[49m\u001b[43m \u001b[49m\u001b[43mx0\u001b[49m\u001b[43m,\u001b[49m\u001b[43m \u001b[49m\u001b[43margs\u001b[49m\u001b[43m,\u001b[49m\u001b[43m \u001b[49m\u001b[43mjac\u001b[49m\u001b[43m,\u001b[49m\u001b[43m \u001b[49m\u001b[43mbounds\u001b[49m\u001b[43m,\u001b[49m\n\u001b[1;32m    732\u001b[0m \u001b[43m                           \u001b[49m\u001b[43mcallback\u001b[49m\u001b[38;5;241;43m=\u001b[39;49m\u001b[43mcallback\u001b[49m\u001b[43m,\u001b[49m\u001b[43m \u001b[49m\u001b[38;5;241;43m*\u001b[39;49m\u001b[38;5;241;43m*\u001b[39;49m\u001b[43moptions\u001b[49m\u001b[43m)\u001b[49m\n\u001b[1;32m    733\u001b[0m \u001b[38;5;28;01melif\u001b[39;00m meth \u001b[38;5;241m==\u001b[39m \u001b[38;5;124m'\u001b[39m\u001b[38;5;124mtnc\u001b[39m\u001b[38;5;124m'\u001b[39m:\n\u001b[1;32m    734\u001b[0m     res \u001b[38;5;241m=\u001b[39m _minimize_tnc(fun, x0, args, jac, bounds, callback\u001b[38;5;241m=\u001b[39mcallback,\n\u001b[1;32m    735\u001b[0m                         \u001b[38;5;241m*\u001b[39m\u001b[38;5;241m*\u001b[39moptions)\n",
      "File \u001b[0;32m~/anaconda3/envs/xtrend-env/lib/python3.11/site-packages/scipy/optimize/_lbfgsb_py.py:407\u001b[0m, in \u001b[0;36m_minimize_lbfgsb\u001b[0;34m(fun, x0, args, jac, bounds, disp, maxcor, ftol, gtol, eps, maxfun, maxiter, iprint, callback, maxls, finite_diff_rel_step, **unknown_options)\u001b[0m\n\u001b[1;32m    401\u001b[0m task_str \u001b[38;5;241m=\u001b[39m task\u001b[38;5;241m.\u001b[39mtobytes()\n\u001b[1;32m    402\u001b[0m \u001b[38;5;28;01mif\u001b[39;00m task_str\u001b[38;5;241m.\u001b[39mstartswith(\u001b[38;5;124mb\u001b[39m\u001b[38;5;124m'\u001b[39m\u001b[38;5;124mFG\u001b[39m\u001b[38;5;124m'\u001b[39m):\n\u001b[1;32m    403\u001b[0m     \u001b[38;5;66;03m# The minimization routine wants f and g at the current x.\u001b[39;00m\n\u001b[1;32m    404\u001b[0m     \u001b[38;5;66;03m# Note that interruptions due to maxfun are postponed\u001b[39;00m\n\u001b[1;32m    405\u001b[0m     \u001b[38;5;66;03m# until the completion of the current minimization iteration.\u001b[39;00m\n\u001b[1;32m    406\u001b[0m     \u001b[38;5;66;03m# Overwrite f and g:\u001b[39;00m\n\u001b[0;32m--> 407\u001b[0m     f, g \u001b[38;5;241m=\u001b[39m \u001b[43mfunc_and_grad\u001b[49m\u001b[43m(\u001b[49m\u001b[43mx\u001b[49m\u001b[43m)\u001b[49m\n\u001b[1;32m    408\u001b[0m \u001b[38;5;28;01melif\u001b[39;00m task_str\u001b[38;5;241m.\u001b[39mstartswith(\u001b[38;5;124mb\u001b[39m\u001b[38;5;124m'\u001b[39m\u001b[38;5;124mNEW_X\u001b[39m\u001b[38;5;124m'\u001b[39m):\n\u001b[1;32m    409\u001b[0m     \u001b[38;5;66;03m# new iteration\u001b[39;00m\n\u001b[1;32m    410\u001b[0m     n_iterations \u001b[38;5;241m+\u001b[39m\u001b[38;5;241m=\u001b[39m \u001b[38;5;241m1\u001b[39m\n",
      "File \u001b[0;32m~/anaconda3/envs/xtrend-env/lib/python3.11/site-packages/scipy/optimize/_differentiable_functions.py:343\u001b[0m, in \u001b[0;36mScalarFunction.fun_and_grad\u001b[0;34m(self, x)\u001b[0m\n\u001b[1;32m    341\u001b[0m \u001b[38;5;28;01mif\u001b[39;00m \u001b[38;5;129;01mnot\u001b[39;00m np\u001b[38;5;241m.\u001b[39marray_equal(x, \u001b[38;5;28mself\u001b[39m\u001b[38;5;241m.\u001b[39mx):\n\u001b[1;32m    342\u001b[0m     \u001b[38;5;28mself\u001b[39m\u001b[38;5;241m.\u001b[39m_update_x(x)\n\u001b[0;32m--> 343\u001b[0m \u001b[38;5;28;43mself\u001b[39;49m\u001b[38;5;241;43m.\u001b[39;49m\u001b[43m_update_fun\u001b[49m\u001b[43m(\u001b[49m\u001b[43m)\u001b[49m\n\u001b[1;32m    344\u001b[0m \u001b[38;5;28mself\u001b[39m\u001b[38;5;241m.\u001b[39m_update_grad()\n\u001b[1;32m    345\u001b[0m \u001b[38;5;28;01mreturn\u001b[39;00m \u001b[38;5;28mself\u001b[39m\u001b[38;5;241m.\u001b[39mf, \u001b[38;5;28mself\u001b[39m\u001b[38;5;241m.\u001b[39mg\n",
      "File \u001b[0;32m~/anaconda3/envs/xtrend-env/lib/python3.11/site-packages/scipy/optimize/_differentiable_functions.py:294\u001b[0m, in \u001b[0;36mScalarFunction._update_fun\u001b[0;34m(self)\u001b[0m\n\u001b[1;32m    292\u001b[0m \u001b[38;5;28;01mdef\u001b[39;00m \u001b[38;5;21m_update_fun\u001b[39m(\u001b[38;5;28mself\u001b[39m):\n\u001b[1;32m    293\u001b[0m     \u001b[38;5;28;01mif\u001b[39;00m \u001b[38;5;129;01mnot\u001b[39;00m \u001b[38;5;28mself\u001b[39m\u001b[38;5;241m.\u001b[39mf_updated:\n\u001b[0;32m--> 294\u001b[0m         fx \u001b[38;5;241m=\u001b[39m \u001b[38;5;28;43mself\u001b[39;49m\u001b[38;5;241;43m.\u001b[39;49m\u001b[43m_wrapped_fun\u001b[49m\u001b[43m(\u001b[49m\u001b[38;5;28;43mself\u001b[39;49m\u001b[38;5;241;43m.\u001b[39;49m\u001b[43mx\u001b[49m\u001b[43m)\u001b[49m\n\u001b[1;32m    295\u001b[0m         \u001b[38;5;28;01mif\u001b[39;00m fx \u001b[38;5;241m<\u001b[39m \u001b[38;5;28mself\u001b[39m\u001b[38;5;241m.\u001b[39m_lowest_f:\n\u001b[1;32m    296\u001b[0m             \u001b[38;5;28mself\u001b[39m\u001b[38;5;241m.\u001b[39m_lowest_x \u001b[38;5;241m=\u001b[39m \u001b[38;5;28mself\u001b[39m\u001b[38;5;241m.\u001b[39mx\n",
      "File \u001b[0;32m~/anaconda3/envs/xtrend-env/lib/python3.11/site-packages/scipy/optimize/_differentiable_functions.py:20\u001b[0m, in \u001b[0;36m_wrapper_fun.<locals>.wrapped\u001b[0;34m(x)\u001b[0m\n\u001b[1;32m     16\u001b[0m ncalls[\u001b[38;5;241m0\u001b[39m] \u001b[38;5;241m+\u001b[39m\u001b[38;5;241m=\u001b[39m \u001b[38;5;241m1\u001b[39m\n\u001b[1;32m     17\u001b[0m \u001b[38;5;66;03m# Send a copy because the user may overwrite it.\u001b[39;00m\n\u001b[1;32m     18\u001b[0m \u001b[38;5;66;03m# Overwriting results in undefined behaviour because\u001b[39;00m\n\u001b[1;32m     19\u001b[0m \u001b[38;5;66;03m# fun(self.x) will change self.x, with the two no longer linked.\u001b[39;00m\n\u001b[0;32m---> 20\u001b[0m fx \u001b[38;5;241m=\u001b[39m \u001b[43mfun\u001b[49m\u001b[43m(\u001b[49m\u001b[43mnp\u001b[49m\u001b[38;5;241;43m.\u001b[39;49m\u001b[43mcopy\u001b[49m\u001b[43m(\u001b[49m\u001b[43mx\u001b[49m\u001b[43m)\u001b[49m\u001b[43m,\u001b[49m\u001b[43m \u001b[49m\u001b[38;5;241;43m*\u001b[39;49m\u001b[43margs\u001b[49m\u001b[43m)\u001b[49m\n\u001b[1;32m     21\u001b[0m \u001b[38;5;66;03m# Make sure the function returns a true scalar\u001b[39;00m\n\u001b[1;32m     22\u001b[0m \u001b[38;5;28;01mif\u001b[39;00m \u001b[38;5;129;01mnot\u001b[39;00m np\u001b[38;5;241m.\u001b[39misscalar(fx):\n",
      "File \u001b[0;32m~/anaconda3/envs/xtrend-env/lib/python3.11/site-packages/scipy/optimize/_optimize.py:79\u001b[0m, in \u001b[0;36mMemoizeJac.__call__\u001b[0;34m(self, x, *args)\u001b[0m\n\u001b[1;32m     77\u001b[0m \u001b[38;5;28;01mdef\u001b[39;00m \u001b[38;5;21m__call__\u001b[39m(\u001b[38;5;28mself\u001b[39m, x, \u001b[38;5;241m*\u001b[39margs):\n\u001b[1;32m     78\u001b[0m \u001b[38;5;250m    \u001b[39m\u001b[38;5;124;03m\"\"\" returns the function value \"\"\"\u001b[39;00m\n\u001b[0;32m---> 79\u001b[0m     \u001b[38;5;28;43mself\u001b[39;49m\u001b[38;5;241;43m.\u001b[39;49m\u001b[43m_compute_if_needed\u001b[49m\u001b[43m(\u001b[49m\u001b[43mx\u001b[49m\u001b[43m,\u001b[49m\u001b[43m \u001b[49m\u001b[38;5;241;43m*\u001b[39;49m\u001b[43margs\u001b[49m\u001b[43m)\u001b[49m\n\u001b[1;32m     80\u001b[0m     \u001b[38;5;28;01mreturn\u001b[39;00m \u001b[38;5;28mself\u001b[39m\u001b[38;5;241m.\u001b[39m_value\n",
      "File \u001b[0;32m~/anaconda3/envs/xtrend-env/lib/python3.11/site-packages/scipy/optimize/_optimize.py:73\u001b[0m, in \u001b[0;36mMemoizeJac._compute_if_needed\u001b[0;34m(self, x, *args)\u001b[0m\n\u001b[1;32m     71\u001b[0m \u001b[38;5;28;01mif\u001b[39;00m \u001b[38;5;129;01mnot\u001b[39;00m np\u001b[38;5;241m.\u001b[39mall(x \u001b[38;5;241m==\u001b[39m \u001b[38;5;28mself\u001b[39m\u001b[38;5;241m.\u001b[39mx) \u001b[38;5;129;01mor\u001b[39;00m \u001b[38;5;28mself\u001b[39m\u001b[38;5;241m.\u001b[39m_value \u001b[38;5;129;01mis\u001b[39;00m \u001b[38;5;28;01mNone\u001b[39;00m \u001b[38;5;129;01mor\u001b[39;00m \u001b[38;5;28mself\u001b[39m\u001b[38;5;241m.\u001b[39mjac \u001b[38;5;129;01mis\u001b[39;00m \u001b[38;5;28;01mNone\u001b[39;00m:\n\u001b[1;32m     72\u001b[0m     \u001b[38;5;28mself\u001b[39m\u001b[38;5;241m.\u001b[39mx \u001b[38;5;241m=\u001b[39m np\u001b[38;5;241m.\u001b[39masarray(x)\u001b[38;5;241m.\u001b[39mcopy()\n\u001b[0;32m---> 73\u001b[0m     fg \u001b[38;5;241m=\u001b[39m \u001b[38;5;28;43mself\u001b[39;49m\u001b[38;5;241;43m.\u001b[39;49m\u001b[43mfun\u001b[49m\u001b[43m(\u001b[49m\u001b[43mx\u001b[49m\u001b[43m,\u001b[49m\u001b[43m \u001b[49m\u001b[38;5;241;43m*\u001b[39;49m\u001b[43margs\u001b[49m\u001b[43m)\u001b[49m\n\u001b[1;32m     74\u001b[0m     \u001b[38;5;28mself\u001b[39m\u001b[38;5;241m.\u001b[39mjac \u001b[38;5;241m=\u001b[39m fg[\u001b[38;5;241m1\u001b[39m]\n\u001b[1;32m     75\u001b[0m     \u001b[38;5;28mself\u001b[39m\u001b[38;5;241m.\u001b[39m_value \u001b[38;5;241m=\u001b[39m fg[\u001b[38;5;241m0\u001b[39m]\n",
      "File \u001b[0;32m~/anaconda3/envs/xtrend-env/lib/python3.11/site-packages/gpflow/optimizers/scipy.py:224\u001b[0m, in \u001b[0;36mScipy.eval_func.<locals>._eval\u001b[0;34m(x)\u001b[0m\n\u001b[1;32m    223\u001b[0m \u001b[38;5;28;01mdef\u001b[39;00m \u001b[38;5;21m_eval\u001b[39m(x: AnyNDArray) \u001b[38;5;241m-\u001b[39m\u001b[38;5;241m>\u001b[39m Tuple[AnyNDArray, AnyNDArray]:\n\u001b[0;32m--> 224\u001b[0m     loss, grad \u001b[38;5;241m=\u001b[39m \u001b[43m_tf_eval\u001b[49m\u001b[43m(\u001b[49m\u001b[43mtf\u001b[49m\u001b[38;5;241;43m.\u001b[39;49m\u001b[43mconvert_to_tensor\u001b[49m\u001b[43m(\u001b[49m\u001b[43mx\u001b[49m\u001b[43m)\u001b[49m\u001b[43m)\u001b[49m\n\u001b[1;32m    225\u001b[0m     \u001b[38;5;28;01mreturn\u001b[39;00m loss\u001b[38;5;241m.\u001b[39mnumpy()\u001b[38;5;241m.\u001b[39mastype(np\u001b[38;5;241m.\u001b[39mfloat64), grad\u001b[38;5;241m.\u001b[39mnumpy()\u001b[38;5;241m.\u001b[39mastype(np\u001b[38;5;241m.\u001b[39mfloat64)\n",
      "File \u001b[0;32m~/anaconda3/envs/xtrend-env/lib/python3.11/site-packages/tensorflow/python/util/traceback_utils.py:153\u001b[0m, in \u001b[0;36mfilter_traceback.<locals>.error_handler\u001b[0;34m(*args, **kwargs)\u001b[0m\n\u001b[1;32m    151\u001b[0m \u001b[38;5;28;01mexcept\u001b[39;00m \u001b[38;5;167;01mException\u001b[39;00m \u001b[38;5;28;01mas\u001b[39;00m e:\n\u001b[1;32m    152\u001b[0m   filtered_tb \u001b[38;5;241m=\u001b[39m _process_traceback_frames(e\u001b[38;5;241m.\u001b[39m__traceback__)\n\u001b[0;32m--> 153\u001b[0m   \u001b[38;5;28;01mraise\u001b[39;00m e\u001b[38;5;241m.\u001b[39mwith_traceback(filtered_tb) \u001b[38;5;28;01mfrom\u001b[39;00m \u001b[38;5;28;01mNone\u001b[39;00m\n\u001b[1;32m    154\u001b[0m \u001b[38;5;28;01mfinally\u001b[39;00m:\n\u001b[1;32m    155\u001b[0m   \u001b[38;5;28;01mdel\u001b[39;00m filtered_tb\n",
      "File \u001b[0;32m~/anaconda3/envs/xtrend-env/lib/python3.11/site-packages/tensorflow/python/eager/execute.py:53\u001b[0m, in \u001b[0;36mquick_execute\u001b[0;34m(op_name, num_outputs, inputs, attrs, ctx, name)\u001b[0m\n\u001b[1;32m     51\u001b[0m \u001b[38;5;28;01mtry\u001b[39;00m:\n\u001b[1;32m     52\u001b[0m   ctx\u001b[38;5;241m.\u001b[39mensure_initialized()\n\u001b[0;32m---> 53\u001b[0m   tensors \u001b[38;5;241m=\u001b[39m pywrap_tfe\u001b[38;5;241m.\u001b[39mTFE_Py_Execute(ctx\u001b[38;5;241m.\u001b[39m_handle, device_name, op_name,\n\u001b[1;32m     54\u001b[0m                                       inputs, attrs, num_outputs)\n\u001b[1;32m     55\u001b[0m \u001b[38;5;28;01mexcept\u001b[39;00m core\u001b[38;5;241m.\u001b[39m_NotOkStatusException \u001b[38;5;28;01mas\u001b[39;00m e:\n\u001b[1;32m     56\u001b[0m   \u001b[38;5;28;01mif\u001b[39;00m name \u001b[38;5;129;01mis\u001b[39;00m \u001b[38;5;129;01mnot\u001b[39;00m \u001b[38;5;28;01mNone\u001b[39;00m:\n",
      "\u001b[0;31mInvalidArgumentError\u001b[0m: Graph execution error:\n\nDetected at node Reshape_1 defined at (most recent call last):\n  File \"<frozen runpy>\", line 198, in _run_module_as_main\n\n  File \"<frozen runpy>\", line 88, in _run_code\n\n  File \"/Users/sumen/anaconda3/envs/xtrend-env/lib/python3.11/site-packages/ipykernel_launcher.py\", line 18, in <module>\n\n  File \"/Users/sumen/anaconda3/envs/xtrend-env/lib/python3.11/site-packages/traitlets/config/application.py\", line 1075, in launch_instance\n\n  File \"/Users/sumen/anaconda3/envs/xtrend-env/lib/python3.11/site-packages/ipykernel/kernelapp.py\", line 739, in start\n\n  File \"/Users/sumen/anaconda3/envs/xtrend-env/lib/python3.11/site-packages/tornado/platform/asyncio.py\", line 205, in start\n\n  File \"/Users/sumen/anaconda3/envs/xtrend-env/lib/python3.11/asyncio/base_events.py\", line 608, in run_forever\n\n  File \"/Users/sumen/anaconda3/envs/xtrend-env/lib/python3.11/asyncio/base_events.py\", line 1936, in _run_once\n\n  File \"/Users/sumen/anaconda3/envs/xtrend-env/lib/python3.11/asyncio/events.py\", line 84, in _run\n\n  File \"/Users/sumen/anaconda3/envs/xtrend-env/lib/python3.11/site-packages/ipykernel/kernelbase.py\", line 545, in dispatch_queue\n\n  File \"/Users/sumen/anaconda3/envs/xtrend-env/lib/python3.11/site-packages/ipykernel/kernelbase.py\", line 534, in process_one\n\n  File \"/Users/sumen/anaconda3/envs/xtrend-env/lib/python3.11/site-packages/ipykernel/kernelbase.py\", line 437, in dispatch_shell\n\n  File \"/Users/sumen/anaconda3/envs/xtrend-env/lib/python3.11/site-packages/ipykernel/ipkernel.py\", line 362, in execute_request\n\n  File \"/Users/sumen/anaconda3/envs/xtrend-env/lib/python3.11/site-packages/ipykernel/kernelbase.py\", line 778, in execute_request\n\n  File \"/Users/sumen/anaconda3/envs/xtrend-env/lib/python3.11/site-packages/ipykernel/ipkernel.py\", line 449, in do_execute\n\n  File \"/Users/sumen/anaconda3/envs/xtrend-env/lib/python3.11/site-packages/ipykernel/zmqshell.py\", line 549, in run_cell\n\n  File \"/Users/sumen/anaconda3/envs/xtrend-env/lib/python3.11/site-packages/IPython/core/interactiveshell.py\", line 3075, in run_cell\n\n  File \"/Users/sumen/anaconda3/envs/xtrend-env/lib/python3.11/site-packages/IPython/core/interactiveshell.py\", line 3130, in _run_cell\n\n  File \"/Users/sumen/anaconda3/envs/xtrend-env/lib/python3.11/site-packages/IPython/core/async_helpers.py\", line 129, in _pseudo_sync_runner\n\n  File \"/Users/sumen/anaconda3/envs/xtrend-env/lib/python3.11/site-packages/IPython/core/interactiveshell.py\", line 3334, in run_cell_async\n\n  File \"/Users/sumen/anaconda3/envs/xtrend-env/lib/python3.11/site-packages/IPython/core/interactiveshell.py\", line 3517, in run_ast_nodes\n\n  File \"/Users/sumen/anaconda3/envs/xtrend-env/lib/python3.11/site-packages/IPython/core/interactiveshell.py\", line 3577, in run_code\n\n  File \"/var/folders/n_/qw7pwss90l9b2pz6w26kgpj00000gn/T/ipykernel_95280/1786508536.py\", line 4, in <module>\n\n  File \"/Users/sumen/Documents/code/workspace/xtrend/change_point_detection.py\", line 113, in get_segment_list\n\n  File \"/Users/sumen/Documents/code/workspace/xtrend/change_point_detection.py\", line 61, in get_segment_points\n\n  File \"/Users/sumen/anaconda3/envs/xtrend-env/lib/python3.11/site-packages/gpflow/optimizers/scipy.py\", line 159, in minimize\n\n  File \"/Users/sumen/anaconda3/envs/xtrend-env/lib/python3.11/site-packages/scipy/optimize/_minimize.py\", line 731, in minimize\n\n  File \"/Users/sumen/anaconda3/envs/xtrend-env/lib/python3.11/site-packages/scipy/optimize/_lbfgsb_py.py\", line 347, in _minimize_lbfgsb\n\n  File \"/Users/sumen/anaconda3/envs/xtrend-env/lib/python3.11/site-packages/scipy/optimize/_optimize.py\", line 288, in _prepare_scalar_function\n\n  File \"/Users/sumen/anaconda3/envs/xtrend-env/lib/python3.11/site-packages/scipy/optimize/_differentiable_functions.py\", line 222, in __init__\n\n  File \"/Users/sumen/anaconda3/envs/xtrend-env/lib/python3.11/site-packages/scipy/optimize/_differentiable_functions.py\", line 294, in _update_fun\n\n  File \"/Users/sumen/anaconda3/envs/xtrend-env/lib/python3.11/site-packages/scipy/optimize/_differentiable_functions.py\", line 20, in wrapped\n\n  File \"/Users/sumen/anaconda3/envs/xtrend-env/lib/python3.11/site-packages/scipy/optimize/_optimize.py\", line 79, in __call__\n\n  File \"/Users/sumen/anaconda3/envs/xtrend-env/lib/python3.11/site-packages/scipy/optimize/_optimize.py\", line 73, in _compute_if_needed\n\n  File \"/Users/sumen/anaconda3/envs/xtrend-env/lib/python3.11/site-packages/gpflow/optimizers/scipy.py\", line 224, in _eval\n\n  File \"/Users/sumen/anaconda3/envs/xtrend-env/lib/python3.11/site-packages/gpflow/optimizers/scipy.py\", line 187, in _tf_eval\n\n  File \"/Users/sumen/anaconda3/envs/xtrend-env/lib/python3.11/site-packages/gpflow/optimizers/scipy.py\", line 304, in unpack_tensors\n\n  File \"/Users/sumen/anaconda3/envs/xtrend-env/lib/python3.11/site-packages/gpflow/optimizers/scipy.py\", line 309, in unpack_tensors\n\ndesired shape must be a DT_INT32 or DT_INT64 vector, not a float\n\t [[{{node Reshape_1}}]] [Op:__inference__tf_eval_609006]"
     ]
    }
   ],
   "source": [
    "# 获得断点分割片段数据\n",
    "gaussion_process_list = get_segment_list(data_list=data_list)"
   ]
  },
  {
   "cell_type": "markdown",
   "metadata": {},
   "source": [
    "# 模型预测"
   ]
  },
  {
   "cell_type": "code",
   "execution_count": 316,
   "metadata": {},
   "outputs": [],
   "source": [
    "def reload_custom_libs():\n",
    "    importlib.reload(loss_functions)\n",
    "    importlib.reload(dataprocessor)\n",
    "    importlib.reload(change_point_detection)\n",
    "    importlib.reload(model)\n",
    "    \n",
    "from change_point_detection import *\n",
    "from loss_functions import *\n",
    "from model import *\n",
    "from dataprocessor import *"
   ]
  },
  {
   "cell_type": "code",
   "execution_count": 317,
   "metadata": {},
   "outputs": [
    {
     "name": "stderr",
     "output_type": "stream",
     "text": [
      "生成张量, 并对类别信息进行one-hot 编码: 100%|██████████| 11/11 [00:47<00:00,  4.31s/it]\n"
     ]
    },
    {
     "name": "stdout",
     "output_type": "stream",
     "text": [
      "one-hot 编码中...\n"
     ]
    }
   ],
   "source": [
    "# 生成 target_set 和 context_set\n",
    "asset_num, context_num = len(data_list), 2\n",
    "target_set, labels, map = generate_tensors(data_list, time_steps=timesteps, encoder_type = \"one-hot\", return_map=True)\n",
    "target_set, context_set, labels = gaussian_data_binder(\n",
    "    data_list,\n",
    "    target_set,\n",
    "    labels,\n",
    "    map=map,\n",
    "    asset_num=2,\n",
    "    context_num=2,\n",
    "    gaussion_process_list=gaussion_process_list,\n",
    ")\n",
    "\n",
    "# 设置参数\n",
    "target_std = tf.cast(5e-2, tf.float64)\n",
    "hidden_dim = 64  # 128\n",
    "warm_up = 63\n",
    "features_len = len(macd_timescales) + len(rtn_timescales)\n",
    "\n",
    "# declare 数据, 初始化数据集\n",
    "x, s = target_set[0], target_set[-1]\n",
    "x_c_rtn, x_c, s_c = context_set[0], context_set[0][:, :, :, 1:], context_set[-1]\n",
    "dataset = tf.data.Dataset.from_tensor_slices((x_c, x_c_rtn, s_c, x, s, labels))\n",
    "\n",
    "timesteps = x.shape[-2]\n",
    "features_len = x.shape[-1]\n",
    "encoding_size = s.shape[-1]\n",
    "x_shape = (None, asset_num, timesteps, features_len)\n",
    "s_shape = (None, asset_num, timesteps, encoding_size)"
   ]
  },
  {
   "cell_type": "markdown",
   "metadata": {},
   "source": [
    "# 训练模型"
   ]
  },
  {
   "cell_type": "code",
   "execution_count": 318,
   "metadata": {},
   "outputs": [
    {
     "name": "stderr",
     "output_type": "stream",
     "text": [
      "训练中...epoch0: 100%|██████████| 57/57 [04:02<00:00,  4.25s/it]\n"
     ]
    },
    {
     "name": "stdout",
     "output_type": "stream",
     "text": [
      "Epoch 1/100, Loss: -0.2503902066794648\n"
     ]
    },
    {
     "name": "stderr",
     "output_type": "stream",
     "text": [
      "训练中...epoch1: 100%|██████████| 57/57 [04:57<00:00,  5.23s/it]\n"
     ]
    },
    {
     "name": "stdout",
     "output_type": "stream",
     "text": [
      "Epoch 2/100, Loss: 0.20365322097569394\n"
     ]
    },
    {
     "name": "stderr",
     "output_type": "stream",
     "text": [
      "训练中...epoch2: 100%|██████████| 57/57 [05:14<00:00,  5.51s/it]\n"
     ]
    },
    {
     "name": "stdout",
     "output_type": "stream",
     "text": [
      "Epoch 3/100, Loss: -0.45573579030807815\n"
     ]
    },
    {
     "name": "stderr",
     "output_type": "stream",
     "text": [
      "训练中...epoch3: 100%|██████████| 57/57 [04:05<00:00,  4.31s/it]\n"
     ]
    },
    {
     "name": "stdout",
     "output_type": "stream",
     "text": [
      "Epoch 4/100, Loss: -0.462334744459815\n"
     ]
    },
    {
     "name": "stderr",
     "output_type": "stream",
     "text": [
      "训练中...epoch4: 100%|██████████| 57/57 [04:11<00:00,  4.40s/it]\n"
     ]
    },
    {
     "name": "stdout",
     "output_type": "stream",
     "text": [
      "Epoch 5/100, Loss: -0.993122409660935\n"
     ]
    },
    {
     "name": "stderr",
     "output_type": "stream",
     "text": [
      "训练中...epoch5: 100%|██████████| 57/57 [03:52<00:00,  4.08s/it]\n"
     ]
    },
    {
     "name": "stdout",
     "output_type": "stream",
     "text": [
      "Epoch 6/100, Loss: 0.4021623348690486\n"
     ]
    },
    {
     "name": "stderr",
     "output_type": "stream",
     "text": [
      "训练中...epoch6: 100%|██████████| 57/57 [05:03<00:00,  5.32s/it]\n"
     ]
    },
    {
     "name": "stdout",
     "output_type": "stream",
     "text": [
      "Epoch 7/100, Loss: -0.11959862057256519\n"
     ]
    },
    {
     "name": "stderr",
     "output_type": "stream",
     "text": [
      "训练中...epoch7: 100%|██████████| 57/57 [05:17<00:00,  5.57s/it]\n"
     ]
    },
    {
     "name": "stdout",
     "output_type": "stream",
     "text": [
      "Epoch 8/100, Loss: 0.47206664936510273\n"
     ]
    },
    {
     "name": "stderr",
     "output_type": "stream",
     "text": [
      "训练中...epoch8: 100%|██████████| 57/57 [04:00<00:00,  4.22s/it]\n"
     ]
    },
    {
     "name": "stdout",
     "output_type": "stream",
     "text": [
      "Epoch 9/100, Loss: 0.12243298633508917\n"
     ]
    },
    {
     "name": "stderr",
     "output_type": "stream",
     "text": [
      "训练中...epoch9: 100%|██████████| 57/57 [04:00<00:00,  4.22s/it]\n"
     ]
    },
    {
     "name": "stdout",
     "output_type": "stream",
     "text": [
      "Epoch 10/100, Loss: 0.3139768356106016\n"
     ]
    },
    {
     "name": "stderr",
     "output_type": "stream",
     "text": [
      "训练中...epoch10: 100%|██████████| 57/57 [03:56<00:00,  4.15s/it]\n"
     ]
    },
    {
     "name": "stdout",
     "output_type": "stream",
     "text": [
      "Epoch 11/100, Loss: 0.22016025159917038\n"
     ]
    },
    {
     "name": "stderr",
     "output_type": "stream",
     "text": [
      "训练中...epoch11: 100%|██████████| 57/57 [05:01<00:00,  5.29s/it]\n"
     ]
    },
    {
     "name": "stdout",
     "output_type": "stream",
     "text": [
      "Epoch 12/100, Loss: -0.930960788098651\n"
     ]
    },
    {
     "name": "stderr",
     "output_type": "stream",
     "text": [
      "训练中...epoch12: 100%|██████████| 57/57 [05:40<00:00,  5.97s/it]\n"
     ]
    },
    {
     "name": "stdout",
     "output_type": "stream",
     "text": [
      "Epoch 13/100, Loss: -0.19410745262798154\n"
     ]
    },
    {
     "name": "stderr",
     "output_type": "stream",
     "text": [
      "训练中...epoch13: 100%|██████████| 57/57 [05:31<00:00,  5.82s/it]\n"
     ]
    },
    {
     "name": "stdout",
     "output_type": "stream",
     "text": [
      "Epoch 14/100, Loss: -0.3997179100685217\n"
     ]
    },
    {
     "name": "stderr",
     "output_type": "stream",
     "text": [
      "训练中...epoch14: 100%|██████████| 57/57 [06:16<00:00,  6.60s/it]\n"
     ]
    },
    {
     "name": "stdout",
     "output_type": "stream",
     "text": [
      "Epoch 15/100, Loss: 0.10679896999413924\n"
     ]
    },
    {
     "name": "stderr",
     "output_type": "stream",
     "text": [
      "训练中...epoch15: 100%|██████████| 57/57 [05:16<00:00,  5.55s/it]\n"
     ]
    },
    {
     "name": "stdout",
     "output_type": "stream",
     "text": [
      "Epoch 16/100, Loss: -0.2893849001192578\n"
     ]
    },
    {
     "name": "stderr",
     "output_type": "stream",
     "text": [
      "训练中...epoch16: 100%|██████████| 57/57 [04:11<00:00,  4.41s/it]\n"
     ]
    },
    {
     "name": "stdout",
     "output_type": "stream",
     "text": [
      "Epoch 17/100, Loss: -0.88161609324209\n"
     ]
    },
    {
     "name": "stderr",
     "output_type": "stream",
     "text": [
      "训练中...epoch17: 100%|██████████| 57/57 [06:14<00:00,  6.58s/it]\n"
     ]
    },
    {
     "name": "stdout",
     "output_type": "stream",
     "text": [
      "Epoch 18/100, Loss: 0.0586711740506618\n"
     ]
    },
    {
     "name": "stderr",
     "output_type": "stream",
     "text": [
      "训练中...epoch18: 100%|██████████| 57/57 [06:40<00:00,  7.03s/it]\n"
     ]
    },
    {
     "name": "stdout",
     "output_type": "stream",
     "text": [
      "Epoch 19/100, Loss: -0.39565746607714664\n"
     ]
    },
    {
     "name": "stderr",
     "output_type": "stream",
     "text": [
      "训练中...epoch19:  42%|████▏     | 24/57 [02:48<03:48,  6.94s/it]"
     ]
    }
   ],
   "source": [
    "# 训练模型\n",
    "def train(model, dataset: tf.data.Dataset, batch_num: int, num_epochs: int, alpha: float):\n",
    "\n",
    "    optimizer = tf.keras.optimizers.Adam(learning_rate=1e-3)\n",
    "    dataset = dataset.shuffle(buffer_size=10000).batch(batch_num)\n",
    "\n",
    "    for epoch in range(num_epochs):\n",
    "        iter_count = 0\n",
    "        for batch_data in tqdm(dataset, desc=f\"训练中...epoch{epoch}\"):\n",
    "            # 对每一个批次进行处理\n",
    "            x_c, x_c_rtn, s_c, x, s, labels = batch_data\n",
    "            with tf.GradientTape() as tape:\n",
    "                result = model(x_c, x_c_rtn, s_c, x, s)\n",
    "                joint_loss, mle, sharpe = joint_loss_function(\n",
    "                    result, labels, target_std, warm_up, alpha=alpha\n",
    "                )\n",
    "            grads = tape.gradient(joint_loss, model.trainable_variables)\n",
    "            optimizer.apply_gradients(zip(grads, model.trainable_variables))\n",
    "\n",
    "            iter_count += 1\n",
    "            if iter_count % 1 == 0 and False:\n",
    "                print(\n",
    "                    f\"Epoch {epoch+1}/{num_epochs}, Iteration {iter_count}, Loss: {joint_loss.numpy()}, MLE: {mle.numpy()}, Sharpe: {sharpe.numpy()}\"\n",
    "                )\n",
    "\n",
    "        print(f\"Epoch {epoch+1}/{num_epochs}, Loss: {joint_loss.numpy()}\")\n",
    "\n",
    "# 初始化模型\n",
    "model = ModelWrapper(features_len, hidden_dim, encoding_size, num_heads=4)\n",
    "model.build((x_shape, s_shape))\n",
    "result = train(model, dataset, batch_num=64, num_epochs=100, alpha = 1e-2)"
   ]
  },
  {
   "cell_type": "code",
   "execution_count": null,
   "metadata": {},
   "outputs": [],
   "source": []
  }
 ],
 "metadata": {
  "kernelspec": {
   "display_name": "xtrend-env",
   "language": "python",
   "name": "python3"
  },
  "language_info": {
   "codemirror_mode": {
    "name": "ipython",
    "version": 3
   },
   "file_extension": ".py",
   "mimetype": "text/x-python",
   "name": "python",
   "nbconvert_exporter": "python",
   "pygments_lexer": "ipython3",
   "version": "3.11.9"
  }
 },
 "nbformat": 4,
 "nbformat_minor": 2
}
