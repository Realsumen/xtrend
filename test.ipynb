{
 "cells": [
  {
   "cell_type": "code",
   "execution_count": 1,
   "metadata": {},
   "outputs": [],
   "source": [
    "import tensorflow as tf\n",
    "from tensorflow.keras.layers import Input, Dense, Embedding, ELU, Add, Softmax, LayerNormalization\n",
    "from tensorflow.keras.models import Model\n",
    "import numpy as np\n",
    "import tensorflow.keras as keras\n",
    "import importlib\n",
    "import dataprocessor\n",
    "from tqdm import tqdm\n",
    "import os\n"
   ]
  },
  {
   "cell_type": "code",
   "execution_count": 18,
   "metadata": {},
   "outputs": [
    {
     "name": "stderr",
     "output_type": "stream",
     "text": [
      "处理文件中。。: 100%|██████████| 12/12 [00:51<00:00,  4.33s/it]\n"
     ]
    },
    {
     "name": "stdout",
     "output_type": "stream",
     "text": [
      "Process data into a dataset\n"
     ]
    }
   ],
   "source": [
    "import models\n",
    "importlib.reload(models)\n",
    "importlib.reload(dataprocessor)\n",
    "from models import *\n",
    "from dataprocessor import *\n",
    "\n",
    "target_vol = 21, 5e-2\n",
    "macd_timescales = {(8, 24), (16, 28), (32, 96)}\n",
    "rtn_timescales = {1, 21, 63, 126, 252}\n",
    "timesteps = 5\n",
    "\n",
    "folder_path = 'data'\n",
    "files = [f[:-5] for f in os.listdir(folder_path) if f.endswith('.xlsx')]\n",
    "files = [file for file in files if file not in (\"CC00.NYB\", \"LB00.CME\", \"ES00.CME\", \"NQ00.CME\", \"YM00.CBT\")]\n",
    "data_list = []\n",
    "\n",
    "for file in tqdm(files, desc=\"处理文件中。。\"):\n",
    "    data = pd.read_excel(f\"data/{file}.xlsx\")[[\"日期\", \"收盘价(元)\"]]\n",
    "    data = data.rename(columns={\"日期\": \"date\", \"收盘价(元)\": \"close\"}).sort_values(\"date\")\n",
    "    data[\"side_info\"] = file\n",
    "    try:\n",
    "        data = generate_features(data, macd_timescales, rtn_timescales)\n",
    "    except:\n",
    "        print(file)\n",
    "    data_list.append(data)\n",
    "\n",
    "print(\"Process data into a dataset\")\n",
    "targetset = generate_tf_dataset(data_list, timesteps)"
   ]
  },
  {
   "cell_type": "code",
   "execution_count": null,
   "metadata": {},
   "outputs": [],
   "source": [
    "def encode_context_info(dataset):\n",
    "    features, _ = next(iter(dataset))\n",
    "    shape = features.shape\n",
    "    context_info_values= []\n",
    "    for _, context_info in dataset:\n",
    "        context_info_values.append(context_info['side_info'].numpy().decode('utf-8'))\n",
    "\n",
    "    # Step 2: One-hot encode the context_info categories\n",
    "    unique_context_info = list(set(context_info_values))\n",
    "    context_info_map = {val: idx for idx, val in enumerate(unique_context_info)}\n",
    "    num_classes = len(unique_context_info)\n",
    "\n",
    "    def one_hot_encode(value):\n",
    "        one_hot = np.zeros(num_classes)\n",
    "        one_hot[context_info_map[value]] = 1\n",
    "        return one_hot\n",
    "\n",
    "    encoded_data = []\n",
    "    print(\"编码中...\")\n",
    "    for _, context_info in dataset:\n",
    "        side_info = context_info['side_info'].numpy().decode('utf-8')\n",
    "        one_hot_encoded = one_hot_encode(side_info)\n",
    "        encoded_data.append(one_hot_encoded)\n",
    "\n",
    "    encoded_data = tf.ragged.constant(encoded_data).to_tensor(default_value=0.0)\n",
    "    expanded_tensor = tf.expand_dims(encoded_data, axis=1)\n",
    "    encoded_data = tf.tile(expanded_tensor, [1, shape[0], 1])\n",
    "    return encoded_data\n",
    "\n",
    "encode_context_info(targetset)"
   ]
  },
  {
   "cell_type": "code",
   "execution_count": null,
   "metadata": {},
   "outputs": [],
   "source": [
    "for features, labels in targetset.take(10):\n",
    "    print(\"Features:\", features)\n",
    "    print(\"Labels:\", labels)"
   ]
  },
  {
   "cell_type": "code",
   "execution_count": 5,
   "metadata": {},
   "outputs": [],
   "source": [
    "batch_size = 5\n",
    "time_steps = 2  # 每个样本的时间步\n",
    "sequence_length = 4\n",
    "\n",
    "encoding_size = 17  # 17 种合约\n",
    "hidden_dim = 8\n",
    "\n",
    "x = tf.random.uniform((batch_size, time_steps, sequence_length))\n",
    "s_indices = tf.tile(tf.range(batch_size)[:, tf.newaxis], [1, time_steps])\n",
    "s = tf.one_hot(s_indices + 6, depth=encoding_size)\n",
    "\n",
    "model = BaselineNeuralForecaster(sequence_length, hidden_dim, encoding_size)\n",
    "model.build((x.shape, s.shape))\n",
    "result = model(x, s)"
   ]
  },
  {
   "cell_type": "code",
   "execution_count": null,
   "metadata": {},
   "outputs": [],
   "source": []
  }
 ],
 "metadata": {
  "kernelspec": {
   "display_name": "xtrend-env",
   "language": "python",
   "name": "python3"
  },
  "language_info": {
   "codemirror_mode": {
    "name": "ipython",
    "version": 3
   },
   "file_extension": ".py",
   "mimetype": "text/x-python",
   "name": "python",
   "nbconvert_exporter": "python",
   "pygments_lexer": "ipython3",
   "version": "3.11.9"
  }
 },
 "nbformat": 4,
 "nbformat_minor": 2
}
