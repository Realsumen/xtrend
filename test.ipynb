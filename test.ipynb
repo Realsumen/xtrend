{
 "cells": [
  {
   "cell_type": "code",
   "execution_count": 1,
   "metadata": {},
   "outputs": [],
   "source": [
    "import importlib\n",
    "import os\n",
    "from models import *\n",
    "from dataprocessor import *\n",
    "def reload_custom_libs():\n",
    "    import models\n",
    "    import dataprocessor\n",
    "    importlib.reload(models)\n",
    "    importlib.reload(dataprocessor)"
   ]
  },
  {
   "cell_type": "code",
   "execution_count": 2,
   "metadata": {},
   "outputs": [
    {
     "name": "stderr",
     "output_type": "stream",
     "text": [
      "处理文件中。。: 100%|██████████| 12/12 [00:50<00:00,  4.17s/it]\n"
     ]
    },
    {
     "name": "stdout",
     "output_type": "stream",
     "text": [
      "one-hot 编码中...\n",
      "one-hot 编码中...\n"
     ]
    }
   ],
   "source": [
    "macd_timescales = [(8, 24), (16, 28), (32, 96)]\n",
    "rtn_timescales = [1, 21, 63, 126, 252]\n",
    "timesteps = 16\n",
    "\n",
    "folder_path = 'data'\n",
    "files = [f for f in os.listdir(folder_path) if f.endswith('.xlsx')]\n",
    "files = [file for file in files if file not in (\"CC00.NYB.xlsx\", \"LB00.CME.xlsx\", \"ES00.CME.xlsx\", \"NQ00.CME.xlsx\", \"YM00.CBT.xlsx\")]\n",
    "data_list = []\n",
    "\n",
    "\n",
    "data_list = process_data_list(files, macd_timescales, rtn_timescales, test = True)\n",
    "target_set, labels, map = generate_tensors(data_list, timesteps, encoder_type = \"one-hot\", return_map=True)\n",
    "context_set, _ = generate_tensors(data_list, timesteps, encoder_type = \"one-hot\", contain_next_day_rtn=True)"
   ]
  },
  {
   "cell_type": "code",
   "execution_count": 3,
   "metadata": {},
   "outputs": [
    {
     "name": "stderr",
     "output_type": "stream",
     "text": [
      "处理日期中..: 100%|██████████| 588/588 [00:01<00:00, 465.03it/s]\n"
     ]
    }
   ],
   "source": [
    "reload_custom_libs()\n",
    "from models import *\n",
    "from dataprocessor import *\n",
    "\n",
    "sequence_length = 8\n",
    "hidden_dim = 128\n",
    "encoding_size = 13\n",
    "\n",
    "context, target, _ = data_binder(context_set, target_set, labels)\n",
    "x_c, x_c_rtn, s_c = context\n",
    "x, s = target"
   ]
  },
  {
   "cell_type": "code",
   "execution_count": 4,
   "metadata": {},
   "outputs": [],
   "source": [
    "model = ModelWrapper(sequence_length, hidden_dim, encoding_size, 4)\n",
    "model.build((x.shape, s.shape))\n",
    "result = model(x_c, x_c_rtn, s_c, x, s)"
   ]
  },
  {
   "cell_type": "code",
   "execution_count": null,
   "metadata": {},
   "outputs": [],
   "source": [
    "result"
   ]
  },
  {
   "cell_type": "code",
   "execution_count": null,
   "metadata": {},
   "outputs": [],
   "source": []
  }
 ],
 "metadata": {
  "kernelspec": {
   "display_name": "xtrend-env",
   "language": "python",
   "name": "python3"
  },
  "language_info": {
   "codemirror_mode": {
    "name": "ipython",
    "version": 3
   },
   "file_extension": ".py",
   "mimetype": "text/x-python",
   "name": "python",
   "nbconvert_exporter": "python",
   "pygments_lexer": "ipython3",
   "version": "3.11.9"
  }
 },
 "nbformat": 4,
 "nbformat_minor": 2
}
