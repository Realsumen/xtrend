{
 "cells": [
  {
   "cell_type": "code",
   "execution_count": null,
   "metadata": {},
   "outputs": [],
   "source": [
    "import tensorflow as tf\n",
    "import importlib\n",
    "import os\n",
    "import loss_functions\n",
    "import dataprocessor\n",
    "import fd_model\n",
    "import change_point_detection\n",
    "from tqdm import tqdm\n",
    "\n",
    "def reload_custom_libs():\n",
    "    importlib.reload(loss_functions)\n",
    "    importlib.reload(dataprocessor)\n",
    "    importlib.reload(change_point_detection)\n",
    "    importlib.reload(fd_model)\n",
    "    \n",
    "from change_point_detection import *\n",
    "from loss_functions import *\n",
    "from fd_model import *\n",
    "from dataprocessor import *\n",
    "\n",
    "macd_timescales = [(8, 24), (16, 28), (32, 96)]\n",
    "rtn_timescales = [1, 21, 63, 126, 252]\n",
    "timesteps = 126\n",
    "folder_path = \"data\"\n",
    "files = [f for f in os.listdir(folder_path) if f.endswith(\".xlsx\")]\n",
    "files = [\n",
    "    file\n",
    "    for file in files\n",
    "    if file\n",
    "    not in (\n",
    "        \"CC00.NYB.xlsx\",\n",
    "        \"LB00.CME.xlsx\",\n",
    "        \"ES00.CME.xlsx\",\n",
    "        \"NQ00.CME.xlsx\",\n",
    "        \"YM00.CBT.xlsx\",\n",
    "        \"SP00.CME.xlsx\",\n",
    "    )\n",
    "]"
   ]
  },
  {
   "cell_type": "code",
   "execution_count": 306,
   "metadata": {},
   "outputs": [
    {
     "name": "stderr",
     "output_type": "stream",
     "text": [
      "处理文件中。。: 100%|██████████| 11/11 [00:57<00:00,  5.25s/it]\n"
     ]
    }
   ],
   "source": [
    "# 加载文件\n",
    "# data_list = process_data_list(files, macd_timescales, rtn_timescales, test=125)\n",
    "data_list = process_data_list(files, macd_timescales, rtn_timescales)"
   ]
  },
  {
   "cell_type": "code",
   "execution_count": null,
   "metadata": {},
   "outputs": [],
   "source": [
    "# # 跑过一次的话，不要再跑入这个\n",
    "\n",
    "# gaussion_process_list = gaussion_process_list\n",
    "# gaussion_process_list = []\n",
    "# for data in tqdm(data_list):\n",
    "#     price_series = data[\"close\"]\n",
    "#     target = price_series.to_numpy().reshape((-1, 1))\n",
    "#     segment_list = get_segment_points(target, l_max=63, mu=0.999)\n",
    "#     segment_list = [data.iloc[start : end, :] for start, end in segment_list]\n",
    "#     gaussion_process_list.extend(segment_list)"
   ]
  },
  {
   "cell_type": "markdown",
   "metadata": {},
   "source": [
    "# 模型预测"
   ]
  },
  {
   "cell_type": "code",
   "execution_count": 316,
   "metadata": {},
   "outputs": [],
   "source": [
    "def reload_custom_libs():\n",
    "    importlib.reload(loss_functions)\n",
    "    importlib.reload(dataprocessor)\n",
    "    importlib.reload(change_point_detection)\n",
    "    importlib.reload(fd_model)\n",
    "    \n",
    "from change_point_detection import *\n",
    "from loss_functions import *\n",
    "from fd_model import *\n",
    "from dataprocessor import *"
   ]
  },
  {
   "cell_type": "code",
   "execution_count": 317,
   "metadata": {},
   "outputs": [
    {
     "name": "stderr",
     "output_type": "stream",
     "text": [
      "生成张量, 并对类别信息进行one-hot 编码: 100%|██████████| 11/11 [00:47<00:00,  4.31s/it]\n"
     ]
    },
    {
     "name": "stdout",
     "output_type": "stream",
     "text": [
      "one-hot 编码中...\n"
     ]
    }
   ],
   "source": [
    "# 生成 target_set 和 context_set\n",
    "asset_num, context_num = len(data_list), 2\n",
    "target_set, labels, map = generate_tensors(data_list, time_steps=timesteps, encoder_type = \"one-hot\", return_map=True)\n",
    "target_set, context_set, labels = gaussian_data_binder(\n",
    "    data_list,\n",
    "    target_set,\n",
    "    labels,\n",
    "    map=map,\n",
    "    asset_num=2,\n",
    "    context_num=2,\n",
    "    gaussion_process_list=gaussion_process_list,\n",
    ")\n",
    "\n",
    "# 设置参数\n",
    "target_std = tf.cast(5e-2, tf.float64)\n",
    "hidden_dim = 64  # 128\n",
    "warm_up = 63\n",
    "features_len = len(macd_timescales) + len(rtn_timescales)\n",
    "\n",
    "# declare 数据, 初始化数据集\n",
    "x, s = target_set[0], target_set[-1]\n",
    "x_c_rtn, x_c, s_c = context_set[0], context_set[0][:, :, :, 1:], context_set[-1]\n",
    "dataset = tf.data.Dataset.from_tensor_slices((x_c, x_c_rtn, s_c, x, s, labels))\n",
    "\n",
    "timesteps = x.shape[-2]\n",
    "features_len = x.shape[-1]\n",
    "encoding_size = s.shape[-1]\n",
    "x_shape = (None, asset_num, timesteps, features_len)\n",
    "s_shape = (None, asset_num, timesteps, encoding_size)"
   ]
  },
  {
   "cell_type": "markdown",
   "metadata": {},
   "source": [
    "# 训练模型"
   ]
  },
  {
   "cell_type": "code",
   "execution_count": 318,
   "metadata": {},
   "outputs": [
    {
     "name": "stderr",
     "output_type": "stream",
     "text": [
      "训练中...epoch0: 100%|██████████| 57/57 [04:02<00:00,  4.25s/it]\n"
     ]
    },
    {
     "name": "stdout",
     "output_type": "stream",
     "text": [
      "Epoch 1/100, Loss: -0.2503902066794648\n"
     ]
    },
    {
     "name": "stderr",
     "output_type": "stream",
     "text": [
      "训练中...epoch1: 100%|██████████| 57/57 [04:57<00:00,  5.23s/it]\n"
     ]
    },
    {
     "name": "stdout",
     "output_type": "stream",
     "text": [
      "Epoch 2/100, Loss: 0.20365322097569394\n"
     ]
    },
    {
     "name": "stderr",
     "output_type": "stream",
     "text": [
      "训练中...epoch2: 100%|██████████| 57/57 [05:14<00:00,  5.51s/it]\n"
     ]
    },
    {
     "name": "stdout",
     "output_type": "stream",
     "text": [
      "Epoch 3/100, Loss: -0.45573579030807815\n"
     ]
    },
    {
     "name": "stderr",
     "output_type": "stream",
     "text": [
      "训练中...epoch3: 100%|██████████| 57/57 [04:05<00:00,  4.31s/it]\n"
     ]
    },
    {
     "name": "stdout",
     "output_type": "stream",
     "text": [
      "Epoch 4/100, Loss: -0.462334744459815\n"
     ]
    },
    {
     "name": "stderr",
     "output_type": "stream",
     "text": [
      "训练中...epoch4: 100%|██████████| 57/57 [04:11<00:00,  4.40s/it]\n"
     ]
    },
    {
     "name": "stdout",
     "output_type": "stream",
     "text": [
      "Epoch 5/100, Loss: -0.993122409660935\n"
     ]
    },
    {
     "name": "stderr",
     "output_type": "stream",
     "text": [
      "训练中...epoch5: 100%|██████████| 57/57 [03:52<00:00,  4.08s/it]\n"
     ]
    },
    {
     "name": "stdout",
     "output_type": "stream",
     "text": [
      "Epoch 6/100, Loss: 0.4021623348690486\n"
     ]
    },
    {
     "name": "stderr",
     "output_type": "stream",
     "text": [
      "训练中...epoch6: 100%|██████████| 57/57 [05:03<00:00,  5.32s/it]\n"
     ]
    },
    {
     "name": "stdout",
     "output_type": "stream",
     "text": [
      "Epoch 7/100, Loss: -0.11959862057256519\n"
     ]
    },
    {
     "name": "stderr",
     "output_type": "stream",
     "text": [
      "训练中...epoch7: 100%|██████████| 57/57 [05:17<00:00,  5.57s/it]\n"
     ]
    },
    {
     "name": "stdout",
     "output_type": "stream",
     "text": [
      "Epoch 8/100, Loss: 0.47206664936510273\n"
     ]
    },
    {
     "name": "stderr",
     "output_type": "stream",
     "text": [
      "训练中...epoch8: 100%|██████████| 57/57 [04:00<00:00,  4.22s/it]\n"
     ]
    },
    {
     "name": "stdout",
     "output_type": "stream",
     "text": [
      "Epoch 9/100, Loss: 0.12243298633508917\n"
     ]
    },
    {
     "name": "stderr",
     "output_type": "stream",
     "text": [
      "训练中...epoch9: 100%|██████████| 57/57 [04:00<00:00,  4.22s/it]\n"
     ]
    },
    {
     "name": "stdout",
     "output_type": "stream",
     "text": [
      "Epoch 10/100, Loss: 0.3139768356106016\n"
     ]
    },
    {
     "name": "stderr",
     "output_type": "stream",
     "text": [
      "训练中...epoch10: 100%|██████████| 57/57 [03:56<00:00,  4.15s/it]\n"
     ]
    },
    {
     "name": "stdout",
     "output_type": "stream",
     "text": [
      "Epoch 11/100, Loss: 0.22016025159917038\n"
     ]
    },
    {
     "name": "stderr",
     "output_type": "stream",
     "text": [
      "训练中...epoch11: 100%|██████████| 57/57 [05:01<00:00,  5.29s/it]\n"
     ]
    },
    {
     "name": "stdout",
     "output_type": "stream",
     "text": [
      "Epoch 12/100, Loss: -0.930960788098651\n"
     ]
    },
    {
     "name": "stderr",
     "output_type": "stream",
     "text": [
      "训练中...epoch12: 100%|██████████| 57/57 [05:40<00:00,  5.97s/it]\n"
     ]
    },
    {
     "name": "stdout",
     "output_type": "stream",
     "text": [
      "Epoch 13/100, Loss: -0.19410745262798154\n"
     ]
    },
    {
     "name": "stderr",
     "output_type": "stream",
     "text": [
      "训练中...epoch13: 100%|██████████| 57/57 [05:31<00:00,  5.82s/it]\n"
     ]
    },
    {
     "name": "stdout",
     "output_type": "stream",
     "text": [
      "Epoch 14/100, Loss: -0.3997179100685217\n"
     ]
    },
    {
     "name": "stderr",
     "output_type": "stream",
     "text": [
      "训练中...epoch14: 100%|██████████| 57/57 [06:16<00:00,  6.60s/it]\n"
     ]
    },
    {
     "name": "stdout",
     "output_type": "stream",
     "text": [
      "Epoch 15/100, Loss: 0.10679896999413924\n"
     ]
    },
    {
     "name": "stderr",
     "output_type": "stream",
     "text": [
      "训练中...epoch15: 100%|██████████| 57/57 [05:16<00:00,  5.55s/it]\n"
     ]
    },
    {
     "name": "stdout",
     "output_type": "stream",
     "text": [
      "Epoch 16/100, Loss: -0.2893849001192578\n"
     ]
    },
    {
     "name": "stderr",
     "output_type": "stream",
     "text": [
      "训练中...epoch16: 100%|██████████| 57/57 [04:11<00:00,  4.41s/it]\n"
     ]
    },
    {
     "name": "stdout",
     "output_type": "stream",
     "text": [
      "Epoch 17/100, Loss: -0.88161609324209\n"
     ]
    },
    {
     "name": "stderr",
     "output_type": "stream",
     "text": [
      "训练中...epoch17: 100%|██████████| 57/57 [06:14<00:00,  6.58s/it]\n"
     ]
    },
    {
     "name": "stdout",
     "output_type": "stream",
     "text": [
      "Epoch 18/100, Loss: 0.0586711740506618\n"
     ]
    },
    {
     "name": "stderr",
     "output_type": "stream",
     "text": [
      "训练中...epoch18: 100%|██████████| 57/57 [06:40<00:00,  7.03s/it]\n"
     ]
    },
    {
     "name": "stdout",
     "output_type": "stream",
     "text": [
      "Epoch 19/100, Loss: -0.39565746607714664\n"
     ]
    },
    {
     "name": "stderr",
     "output_type": "stream",
     "text": [
      "训练中...epoch19:  42%|████▏     | 24/57 [02:48<03:48,  6.94s/it]"
     ]
    }
   ],
   "source": [
    "# 训练模型\n",
    "def train(model, dataset: tf.data.Dataset, batch_num: int, num_epochs: int, alpha: float):\n",
    "\n",
    "    optimizer = tf.keras.optimizers.Adam(learning_rate=1e-3)\n",
    "    dataset = dataset.shuffle(buffer_size=10000).batch(batch_num)\n",
    "\n",
    "    for epoch in range(num_epochs):\n",
    "        iter_count = 0\n",
    "        for batch_data in tqdm(dataset, desc=f\"训练中...epoch{epoch}\"):\n",
    "            # 对每一个批次进行处理\n",
    "            x_c, x_c_rtn, s_c, x, s, labels = batch_data\n",
    "            with tf.GradientTape() as tape:\n",
    "                result = model(x_c, x_c_rtn, s_c, x, s)\n",
    "                joint_loss, mle, sharpe = joint_loss_function(\n",
    "                    result, labels, target_std, warm_up, alpha=alpha\n",
    "                )\n",
    "            grads = tape.gradient(joint_loss, model.trainable_variables)\n",
    "            optimizer.apply_gradients(zip(grads, model.trainable_variables))\n",
    "\n",
    "            iter_count += 1\n",
    "            if iter_count % 1 == 0 and False:\n",
    "                print(\n",
    "                    f\"Epoch {epoch+1}/{num_epochs}, Iteration {iter_count}, Loss: {joint_loss.numpy()}, MLE: {mle.numpy()}, Sharpe: {sharpe.numpy()}\"\n",
    "                )\n",
    "\n",
    "        print(f\"Epoch {epoch+1}/{num_epochs}, Loss: {joint_loss.numpy()}\")\n",
    "\n",
    "# 初始化模型\n",
    "model = ModelWrapper(features_len, hidden_dim, encoding_size, num_heads=4)\n",
    "model.build((x_shape, s_shape))\n",
    "result = train(model, dataset, batch_num=64, num_epochs=100, alpha = 1e-2)"
   ]
  },
  {
   "cell_type": "code",
   "execution_count": null,
   "metadata": {},
   "outputs": [],
   "source": []
  }
 ],
 "metadata": {
  "kernelspec": {
   "display_name": "xtrend-env",
   "language": "python",
   "name": "python3"
  },
  "language_info": {
   "codemirror_mode": {
    "name": "ipython",
    "version": 3
   },
   "file_extension": ".py",
   "mimetype": "text/x-python",
   "name": "python",
   "nbconvert_exporter": "python",
   "pygments_lexer": "ipython3",
   "version": "3.11.9"
  }
 },
 "nbformat": 4,
 "nbformat_minor": 2
}
