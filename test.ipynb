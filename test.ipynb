{
 "cells": [
  {
   "cell_type": "code",
   "execution_count": 115,
   "metadata": {},
   "outputs": [],
   "source": [
    "import tensorflow as tf\n",
    "from tensorflow.keras.layers import Input, Dense, Embedding, ELU, Add, Softmax, LayerNormalization, LayerNormalization, MultiHeadAttention\n",
    "from tensorflow.keras.models import Model\n",
    "import numpy as np\n",
    "import tensorflow.keras as keras\n",
    "import importlib\n",
    "from tqdm import tqdm\n",
    "import os\n",
    "from importlib import reload\n",
    "reload(models)\n",
    "from models import * "
   ]
  },
  {
   "cell_type": "code",
   "execution_count": 116,
   "metadata": {},
   "outputs": [
    {
     "name": "stderr",
     "output_type": "stream",
     "text": [
      "处理文件中。。: 100%|██████████| 12/12 [00:33<00:00,  2.78s/it]\n"
     ]
    },
    {
     "name": "stdout",
     "output_type": "stream",
     "text": [
      "Process data into a dataset\n"
     ]
    }
   ],
   "source": [
    "import models\n",
    "import dataprocessor\n",
    "importlib.reload(models)\n",
    "importlib.reload(dataprocessor)\n",
    "from models import *\n",
    "from dataprocessor import *\n",
    "\n",
    "macd_timescales = {(8, 24), (16, 28), (32, 96)}\n",
    "rtn_timescales = {1, 21, 63, 126, 252}\n",
    "timesteps = 16\n",
    "\n",
    "folder_path = 'data'\n",
    "files = [f[:-5] for f in os.listdir(folder_path) if f.endswith('.xlsx')]\n",
    "files = [file for file in files if file not in (\"CC00.NYB\", \"LB00.CME\", \"ES00.CME\", \"NQ00.CME\", \"YM00.CBT\")]\n",
    "data_list = []\n",
    "\n",
    "for file in tqdm(files, desc=\"处理文件中。。\"):\n",
    "    data = pd.read_excel(f\"data/{file}.xlsx\")[[\"日期\", \"收盘价(元)\"]]\n",
    "    data = data.rename(columns={\"日期\": \"date\", \"收盘价(元)\": \"close\"}).sort_values(\"date\")\n",
    "    data[\"side_info\"] = file\n",
    "    try:\n",
    "        data = generate_features(data, macd_timescales, rtn_timescales)\n",
    "    except:\n",
    "        print(file)\n",
    "    data_list.append(data)\n",
    "\n",
    "print(\"Process data into a dataset\")\n",
    "targetset = generate_tf_dataset(data_list, timesteps)\n",
    "contextset = generate_tf_dataset(data_list, timesteps, True)"
   ]
  },
  {
   "cell_type": "code",
   "execution_count": 117,
   "metadata": {},
   "outputs": [
    {
     "name": "stdout",
     "output_type": "stream",
     "text": [
      "编码中...\n"
     ]
    },
    {
     "name": "stderr",
     "output_type": "stream",
     "text": [
      "2024-06-20 22:35:48.954139: W tensorflow/core/framework/local_rendezvous.cc:404] Local rendezvous is aborting with status: OUT_OF_RANGE: End of sequence\n",
      "2024-06-20 22:35:56.199041: W tensorflow/core/framework/local_rendezvous.cc:404] Local rendezvous is aborting with status: OUT_OF_RANGE: End of sequence\n"
     ]
    }
   ],
   "source": [
    "s = encode_context_info(contextset)\n",
    "\n",
    "x = []\n",
    "for features, _ in contextset:\n",
    "    x.append(features.numpy())\n",
    "\n",
    "x = x[:100]\n",
    "x = tf.constant(x)\n",
    "s = s[:100]\n",
    "\n",
    "sequence_length = 9\n",
    "encoding_size = 12\n",
    "hidden_dim = 8\n",
    "\n",
    "model = BaselineNeuralForecaster(sequence_length, hidden_dim, encoding_size)\n",
    "model.build((x.shape, s.shape))\n",
    "V = model(x, s)"
   ]
  },
  {
   "cell_type": "code",
   "execution_count": 118,
   "metadata": {},
   "outputs": [
    {
     "name": "stdout",
     "output_type": "stream",
     "text": [
      "编码中...\n"
     ]
    },
    {
     "name": "stderr",
     "output_type": "stream",
     "text": [
      "2024-06-20 22:36:03.196496: W tensorflow/core/framework/local_rendezvous.cc:404] Local rendezvous is aborting with status: OUT_OF_RANGE: End of sequence\n",
      "2024-06-20 22:36:10.673461: W tensorflow/core/framework/local_rendezvous.cc:404] Local rendezvous is aborting with status: OUT_OF_RANGE: End of sequence\n"
     ]
    }
   ],
   "source": [
    "s = encode_context_info(targetset)\n",
    "\n",
    "x = []\n",
    "for features, _ in targetset:\n",
    "    x.append(features.numpy())\n",
    "\n",
    "x = x[:100]\n",
    "x = tf.constant(x)\n",
    "s = s[:100]\n",
    "\n",
    "sequence_length = 8\n",
    "encoding_size = 12 \n",
    "hidden_dim = 8\n",
    "\n",
    "model = BaselineNeuralForecaster(sequence_length, hidden_dim, encoding_size)\n",
    "model.build((x.shape, s.shape))\n",
    "K = model(x, s)\n"
   ]
  },
  {
   "cell_type": "code",
   "execution_count": 132,
   "metadata": {},
   "outputs": [],
   "source": [
    "model = AttentionWrapper(hidden_dim, 4, sequence_length, encoding_size)\n",
    "input_shape = ((V.shape, K.shape, x.shape, s.shape))\n",
    "model.build(input_shape)\n",
    "y = model(V, K, s, x)"
   ]
  },
  {
   "cell_type": "code",
   "execution_count": 133,
   "metadata": {},
   "outputs": [
    {
     "data": {
      "text/plain": [
       "<tf.Tensor: shape=(100, 16, 8), dtype=float32, numpy=\n",
       "array([[[-0.7058372 ,  0.268996  , -0.21691963, ...,  2.066096  ,\n",
       "          0.05795419,  0.6882519 ],\n",
       "        [-0.7056248 ,  0.26882666, -0.21708634, ...,  2.0660071 ,\n",
       "          0.05814856,  0.6883856 ],\n",
       "        [-0.7059304 ,  0.26919276, -0.21681195, ...,  2.0661376 ,\n",
       "          0.05790943,  0.6880081 ],\n",
       "        ...,\n",
       "        [-0.7055423 ,  0.26890212, -0.21716088, ...,  2.0659788 ,\n",
       "          0.05824864,  0.68827623],\n",
       "        [-0.7055667 ,  0.2689979 , -0.21714476, ...,  2.0659924 ,\n",
       "          0.05823958,  0.6881719 ],\n",
       "        [-0.7055083 ,  0.26900566, -0.2172085 , ...,  2.065971  ,\n",
       "          0.05829561,  0.6881617 ]],\n",
       "\n",
       "       [[-0.71909446,  0.30384213, -0.24336475, ...,  2.0663078 ,\n",
       "          0.07304496,  0.6593779 ],\n",
       "        [-0.71938705,  0.30422366, -0.24315804, ...,  2.06643   ,\n",
       "          0.07283551,  0.6589975 ],\n",
       "        [-0.7193807 ,  0.3043738 , -0.2431986 , ...,  2.0664306 ,\n",
       "          0.0728634 ,  0.6588461 ],\n",
       "        ...,\n",
       "        [-0.7190746 ,  0.30406302, -0.24343163, ...,  2.0663025 ,\n",
       "          0.07312316,  0.6591153 ],\n",
       "        [-0.7190217 ,  0.3040625 , -0.24348795, ...,  2.0662813 ,\n",
       "          0.07317412,  0.65911293],\n",
       "        [-0.7190094 ,  0.30397862, -0.24348322, ...,  2.0662754 ,\n",
       "          0.07317019,  0.6592015 ]],\n",
       "\n",
       "       [[-0.7079271 ,  0.34932983, -0.34994802, ...,  2.0465467 ,\n",
       "          0.1386835 ,  0.62618107],\n",
       "        [-0.7079596 ,  0.34955347, -0.3499921 , ...,  2.0465555 ,\n",
       "          0.138695  ,  0.62595904],\n",
       "        [-0.70763767,  0.3492586 , -0.3502071 , ...,  2.0464156 ,\n",
       "          0.13892597,  0.62620884],\n",
       "        ...,\n",
       "        [-0.70747364,  0.34925133, -0.35034588, ...,  2.0463307 ,\n",
       "          0.13910073,  0.62616414],\n",
       "        [-0.70744646,  0.34913492, -0.35033667, ...,  2.046323  ,\n",
       "          0.13909638,  0.6262863 ],\n",
       "        [-0.7075083 ,  0.3493678 , -0.35035253, ...,  2.0463414 ,\n",
       "          0.13909489,  0.6260519 ]],\n",
       "\n",
       "       ...,\n",
       "\n",
       "       [[ 0.32945946, -0.78192854,  1.375634  , ...,  0.45610556,\n",
       "         -0.09300956,  1.1134659 ],\n",
       "        [ 0.33009118, -0.7817042 ,  1.375571  , ...,  0.45560837,\n",
       "         -0.09247139,  1.1131935 ],\n",
       "        [ 0.3308514 , -0.78166926,  1.3758949 , ...,  0.45503172,\n",
       "         -0.09248573,  1.1128378 ],\n",
       "        ...,\n",
       "        [ 0.33190393, -0.7807107 ,  1.3763783 , ...,  0.45400858,\n",
       "         -0.09205425,  1.1116819 ],\n",
       "        [ 0.33165908, -0.78069013,  1.3763292 , ...,  0.4541433 ,\n",
       "         -0.09209129,  1.1117485 ],\n",
       "        [ 0.3315776 , -0.78072274,  1.3763394 , ...,  0.45416415,\n",
       "         -0.09214684,  1.1117864 ]],\n",
       "\n",
       "       [[ 0.13621905, -0.6392211 ,  1.2508014 , ...,  0.7794634 ,\n",
       "         -0.09286427,  1.1056575 ],\n",
       "        [ 0.1368649 , -0.6393404 ,  1.2510685 , ...,  0.77900517,\n",
       "         -0.09290236,  1.1055303 ],\n",
       "        [ 0.13795552, -0.6386314 ,  1.2516139 , ...,  0.77809334,\n",
       "         -0.09261301,  1.1045816 ],\n",
       "        ...,\n",
       "        [ 0.13791007, -0.637915  ,  1.251656  , ...,  0.7780847 ,\n",
       "         -0.09240872,  1.1040428 ],\n",
       "        [ 0.13783246, -0.6379607 ,  1.2516048 , ...,  0.77816445,\n",
       "         -0.09243438,  1.1041172 ],\n",
       "        [ 0.13818946, -0.6380139 ,  1.2517241 , ...,  0.7779108 ,\n",
       "         -0.09239355,  1.1040373 ]],\n",
       "\n",
       "       [[-0.13684303, -0.43134433,  1.2072241 , ...,  0.9531767 ,\n",
       "         -0.05341381,  1.0125501 ],\n",
       "        [-0.13546562, -0.43033397,  1.2077544 , ...,  0.95216507,\n",
       "         -0.05280215,  1.0113866 ],\n",
       "        [-0.1367963 , -0.43083757,  1.2069583 , ...,  0.9532713 ,\n",
       "         -0.05295968,  1.012214  ],\n",
       "        ...,\n",
       "        [-0.13536492, -0.42904285,  1.2076404 , ...,  0.95216423,\n",
       "         -0.05234599,  1.0104201 ],\n",
       "        [-0.13490668, -0.4292456 ,  1.2078099 , ...,  0.95185477,\n",
       "         -0.05226499,  1.010442  ],\n",
       "        [-0.13519111, -0.42913866,  1.2077075 , ...,  0.9520464 ,\n",
       "         -0.05233061,  1.0104458 ]]], dtype=float32)>"
      ]
     },
     "execution_count": 133,
     "metadata": {},
     "output_type": "execute_result"
    }
   ],
   "source": [
    "y"
   ]
  },
  {
   "cell_type": "code",
   "execution_count": null,
   "metadata": {},
   "outputs": [],
   "source": []
  }
 ],
 "metadata": {
  "kernelspec": {
   "display_name": "xtrend-env",
   "language": "python",
   "name": "python3"
  },
  "language_info": {
   "codemirror_mode": {
    "name": "ipython",
    "version": 3
   },
   "file_extension": ".py",
   "mimetype": "text/x-python",
   "name": "python",
   "nbconvert_exporter": "python",
   "pygments_lexer": "ipython3",
   "version": "3.11.9"
  }
 },
 "nbformat": 4,
 "nbformat_minor": 2
}
