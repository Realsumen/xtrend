{
 "cells": [
  {
   "cell_type": "code",
   "execution_count": 83,
   "metadata": {},
   "outputs": [],
   "source": [
    "import tensorflow as tf\n",
    "import importlib\n",
    "import os\n",
    "import pickle\n",
    "from models import *\n",
    "from dataprocessor import *\n",
    "from tqdm import tqdm\n",
    "from change_point_detection import *\n",
    "def reload_custom_libs():\n",
    "    import loss_functions\n",
    "    import models\n",
    "    import dataprocessor\n",
    "    importlib.reload(loss_functions)\n",
    "    importlib.reload(models)\n",
    "    importlib.reload(dataprocessor)"
   ]
  },
  {
   "cell_type": "code",
   "execution_count": 38,
   "metadata": {},
   "outputs": [
    {
     "name": "stderr",
     "output_type": "stream",
     "text": [
      "处理文件中。。: 100%|██████████| 11/11 [00:51<00:00,  4.71s/it]\n"
     ]
    }
   ],
   "source": [
    "macd_timescales = [(8, 24), (16, 28), (32, 96)]\n",
    "rtn_timescales = [1, 21, 63, 126, 252]\n",
    "timesteps = 126\n",
    "\n",
    "folder_path = \"data\"\n",
    "files = [f for f in os.listdir(folder_path) if f.endswith(\".xlsx\")]\n",
    "files = [\n",
    "    file\n",
    "    for file in files\n",
    "    if file\n",
    "    not in (\n",
    "        \"CC00.NYB.xlsx\",\n",
    "        \"LB00.CME.xlsx\",\n",
    "        \"ES00.CME.xlsx\",\n",
    "        \"NQ00.CME.xlsx\",\n",
    "        \"YM00.CBT.xlsx\",\n",
    "        \"SP00.CME.xlsx\",\n",
    "    )\n",
    "]\n",
    "data_list = []\n",
    "\n",
    "\n",
    "data_list = process_data_list(files, macd_timescales, rtn_timescales, test=True)"
   ]
  },
  {
   "cell_type": "code",
   "execution_count": 39,
   "metadata": {},
   "outputs": [
    {
     "name": "stderr",
     "output_type": "stream",
     "text": [
      "100%|██████████| 11/11 [29:19<00:00, 159.99s/it]\n"
     ]
    }
   ],
   "source": [
    "gaussion_process_list = []\n",
    "for data in tqdm(data_list):\n",
    "    price_series = data[\"close\"]\n",
    "    target = price_series.to_numpy().reshape((-1, 1))\n",
    "    segment_list = get_segment_points(target, l_max=63, mu=0.999)\n",
    "    segment_list = [data.iloc[start : end, :] for start, end in segment_list]\n",
    "    gaussion_process_list.extend(segment_list)"
   ]
  },
  {
   "cell_type": "code",
   "execution_count": 59,
   "metadata": {},
   "outputs": [
    {
     "name": "stderr",
     "output_type": "stream",
     "text": [
      "生成张量, 并对类别信息进行on-hot 编码: 100%|██████████| 11/11 [00:00<00:00, 24.35it/s]"
     ]
    },
    {
     "name": "stdout",
     "output_type": "stream",
     "text": [
      "one-hot 编码中...\n"
     ]
    },
    {
     "name": "stderr",
     "output_type": "stream",
     "text": [
      "\n"
     ]
    }
   ],
   "source": [
    "target_set, labels, map = generate_tensors(data_list, timesteps, encoder_type = \"one-hot\", return_map=True)\n",
    "target_set, labels, map\n",
    "feature_sequences_tensor, dates_tensor, side_info_tensor = target_set\n",
    "rtn_next_day, std = labels"
   ]
  },
  {
   "cell_type": "code",
   "execution_count": 98,
   "metadata": {},
   "outputs": [
    {
     "ename": "AttributeError",
     "evalue": "'numpy.datetime64' object has no attribute 'dt'",
     "output_type": "error",
     "traceback": [
      "\u001b[1;31m---------------------------------------------------------------------------\u001b[0m",
      "\u001b[1;31mAttributeError\u001b[0m                            Traceback (most recent call last)",
      "Cell \u001b[1;32mIn[98], line 1\u001b[0m\n\u001b[1;32m----> 1\u001b[0m \u001b[43mdate_list\u001b[49m\u001b[43m[\u001b[49m\u001b[38;5;241;43m0\u001b[39;49m\u001b[43m]\u001b[49m\u001b[38;5;241;43m.\u001b[39;49m\u001b[43mdt\u001b[49m\u001b[38;5;241m.\u001b[39mstrftime(\u001b[38;5;124m\"\u001b[39m\u001b[38;5;124m%\u001b[39m\u001b[38;5;124mY-\u001b[39m\u001b[38;5;124m%\u001b[39m\u001b[38;5;124mm-\u001b[39m\u001b[38;5;132;01m%d\u001b[39;00m\u001b[38;5;124m\"\u001b[39m)\n",
      "\u001b[1;31mAttributeError\u001b[0m: 'numpy.datetime64' object has no attribute 'dt'"
     ]
    }
   ],
   "source": [
    "date_list[0].dt.strftime(\"%Y-%m-%d\")"
   ]
  },
  {
   "cell_type": "code",
   "execution_count": 99,
   "metadata": {},
   "outputs": [
    {
     "ename": "TypeError",
     "evalue": "Cannot convert ['rtn_next_day', 'macd_8_24', 'macd_16_28', 'macd_32_96', 'rtn_1', 'rtn_21', 'rtn_63', 'rtn_126', 'rtn_252', 'rtn_next_day', 'macd_8_24', 'macd_16_28', 'macd_32_96', 'rtn_1', 'rtn_21', 'rtn_63', 'rtn_126', 'rtn_252', 'rtn_next_day', 'macd_8_24', 'macd_16_28', 'macd_32_96', 'rtn_1', 'rtn_21', 'rtn_63', 'rtn_126', 'rtn_252', 'rtn_next_day', 'macd_8_24', 'macd_16_28', 'macd_32_96', 'rtn_1', 'rtn_21', 'rtn_63', 'rtn_126', 'rtn_252', 'rtn_next_day', 'macd_8_24', 'macd_16_28', 'macd_32_96', 'rtn_1', 'rtn_21', 'rtn_63', 'rtn_126', 'rtn_252', 'rtn_next_day', 'macd_8_24', 'macd_16_28', 'macd_32_96', 'rtn_1', 'rtn_21', 'rtn_63', 'rtn_126', 'rtn_252', 'rtn_next_day', 'macd_8_24', 'macd_16_28', 'macd_32_96', 'rtn_1', 'rtn_21', 'rtn_63', 'rtn_126', 'rtn_252', 'rtn_next_day', 'macd_8_24', 'macd_16_28', 'macd_32_96', 'rtn_1', 'rtn_21', 'rtn_63', 'rtn_126', 'rtn_252', 'rtn_next_day', 'macd_8_24', 'macd_16_28', 'macd_32_96', 'rtn_1', 'rtn_21', 'rtn_63', 'rtn_126', 'rtn_252', 'rtn_next_day', 'macd_8_24', 'macd_16_28', 'macd_32_96', 'rtn_1', 'rtn_21', 'rtn_63', 'rtn_126', 'rtn_252', 'rtn_next_day', 'macd_8_24', 'macd_16_28', 'macd_32_96', 'rtn_1', 'rtn_21', 'rtn_63', 'rtn_126', 'rtn_252', 'rtn_next_day', 'macd_8_24', 'macd_16_28', 'macd_32_96', 'rtn_1', 'rtn_21', 'rtn_63', 'rtn_126', 'rtn_252', 'rtn_next_day', 'macd_8_24', 'macd_16_28', 'macd_32_96', 'rtn_1', 'rtn_21', 'rtn_63', 'rtn_126', 'rtn_252', 'rtn_next_day', 'macd_8_24', 'macd_16_28', 'macd_32_96', 'rtn_1', 'rtn_21', 'rtn_63', 'rtn_126', 'rtn_252', 'rtn_next_day', 'macd_8_24', 'macd_16_28', 'macd_32_96', 'rtn_1', 'rtn_21', 'rtn_63', 'rtn_126', 'rtn_252', 'rtn_next_day', 'macd_8_24', 'macd_16_28', 'macd_32_96', 'rtn_1', 'rtn_21', 'rtn_63', 'rtn_126', 'rtn_252', 'rtn_next_day', 'macd_8_24', 'macd_16_28', 'macd_32_96', 'rtn_1', 'rtn_21', 'rtn_63', 'rtn_126', 'rtn_252', 'rtn_next_day', 'macd_8_24', 'macd_16_28', 'macd_32_96', 'rtn_1', 'rtn_21', 'rtn_63', 'rtn_126', 'rtn_252', 'rtn_next_day', 'macd_8_24', 'macd_16_28', 'macd_32_96', 'rtn_1', 'rtn_21', 'rtn_63', 'rtn_126', 'rtn_252', 'rtn_next_day', 'macd_8_24', 'macd_16_28', 'macd_32_96', 'rtn_1', 'rtn_21', 'rtn_63', 'rtn_126', 'rtn_252', 'rtn_next_day', 'macd_8_24', 'macd_16_28', 'macd_32_96', 'rtn_1', 'rtn_21', 'rtn_63', 'rtn_126', 'rtn_252', 'rtn_next_day', 'macd_8_24', 'macd_16_28', 'macd_32_96', 'rtn_1', 'rtn_21', 'rtn_63', 'rtn_126', 'rtn_252', 'rtn_next_day', 'macd_8_24', 'macd_16_28', 'macd_32_96', 'rtn_1', 'rtn_21', 'rtn_63', 'rtn_126', 'rtn_252', 'rtn_next_day', 'macd_8_24', 'macd_16_28', 'macd_32_96', 'rtn_1', 'rtn_21', 'rtn_63', 'rtn_126', 'rtn_252', 'rtn_next_day', 'macd_8_24', 'macd_16_28', 'macd_32_96', 'rtn_1', 'rtn_21', 'rtn_63', 'rtn_126', 'rtn_252', 'rtn_next_day', 'macd_8_24', 'macd_16_28', 'macd_32_96', 'rtn_1', 'rtn_21', 'rtn_63', 'rtn_126', 'rtn_252', 'rtn_next_day', 'macd_8_24', 'macd_16_28', 'macd_32_96', 'rtn_1', 'rtn_21', 'rtn_63', 'rtn_126', 'rtn_252', 'rtn_next_day', 'macd_8_24', 'macd_16_28', 'macd_32_96', 'rtn_1', 'rtn_21', 'rtn_63', 'rtn_126', 'rtn_252', 'rtn_next_day', 'macd_8_24', 'macd_16_28', 'macd_32_96', 'rtn_1', 'rtn_21', 'rtn_63', 'rtn_126', 'rtn_252', 'rtn_next_day', 'macd_8_24', 'macd_16_28', 'macd_32_96', 'rtn_1', 'rtn_21', 'rtn_63', 'rtn_126', 'rtn_252', 'rtn_next_day', 'macd_8_24', 'macd_16_28', 'macd_32_96', 'rtn_1', 'rtn_21', 'rtn_63', 'rtn_126', 'rtn_252', 'rtn_next_day', 'macd_8_24', 'macd_16_28', 'macd_32_96', 'rtn_1', 'rtn_21', 'rtn_63', 'rtn_126', 'rtn_252', 'rtn_next_day', 'macd_8_24', 'macd_16_28', 'macd_32_96', 'rtn_1', 'rtn_21', 'rtn_63', 'rtn_126', 'rtn_252', 'rtn_next_day', 'macd_8_24', 'macd_16_28', 'macd_32_96', 'rtn_1', 'rtn_21', 'rtn_63', 'rtn_126', 'rtn_252', 'rtn_next_day', 'macd_8_24', 'macd_16_28', 'macd_32_96', 'rtn_1', 'rtn_21', 'rtn_63', 'rtn_126', 'rtn_252', 'rtn_next_day', 'macd_8_24', 'macd_16_28', 'macd_32_96', 'rtn_1', 'rtn_21', 'rtn_63', 'rtn_126', 'rtn_252', 'rtn_next_day', 'macd_8_24', 'macd_16_28', 'macd_32_96', 'rtn_1', 'rtn_21', 'rtn_63', 'rtn_126', 'rtn_252', 'rtn_next_day', 'macd_8_24', 'macd_16_28', 'macd_32_96', 'rtn_1', 'rtn_21', 'rtn_63', 'rtn_126', 'rtn_252', 'rtn_next_day', 'macd_8_24', 'macd_16_28', 'macd_32_96', 'rtn_1', 'rtn_21', 'rtn_63', 'rtn_126', 'rtn_252', 'rtn_next_day', 'macd_8_24', 'macd_16_28', 'macd_32_96', 'rtn_1', 'rtn_21', 'rtn_63', 'rtn_126', 'rtn_252', 'rtn_next_day', 'macd_8_24', 'macd_16_28', 'macd_32_96', 'rtn_1', 'rtn_21', 'rtn_63', 'rtn_126', 'rtn_252', 'rtn_next_day', 'macd_8_24', 'macd_16_28', 'macd_32_96', 'rtn_1', 'rtn_21', 'rtn_63', 'rtn_126', 'rtn_252', 'rtn_next_day', 'macd_8_24', 'macd_16_28', 'macd_32_96', 'rtn_1', 'rtn_21', 'rtn_63', 'rtn_126', 'rtn_252', 'rtn_next_day', 'macd_8_24', 'macd_16_28', 'macd_32_96', 'rtn_1', 'rtn_21', 'rtn_63', 'rtn_126', 'rtn_252', 'rtn_next_day', 'macd_8_24', 'macd_16_28', 'macd_32_96', 'rtn_1', 'rtn_21', 'rtn_63', 'rtn_126', 'rtn_252', 'rtn_next_day', 'macd_8_24', 'macd_16_28', 'macd_32_96', 'rtn_1', 'rtn_21', 'rtn_63', 'rtn_126', 'rtn_252', 'rtn_next_day', 'macd_8_24', 'macd_16_28', 'macd_32_96', 'rtn_1', 'rtn_21', 'rtn_63', 'rtn_126', 'rtn_252', 'rtn_next_day', 'macd_8_24', 'macd_16_28', 'macd_32_96', 'rtn_1', 'rtn_21', 'rtn_63', 'rtn_126', 'rtn_252', 'rtn_next_day', 'macd_8_24', 'macd_16_28', 'macd_32_96', 'rtn_1', 'rtn_21', 'rtn_63', 'rtn_126', 'rtn_252', 'rtn_next_day', 'macd_8_24', 'macd_16_28', 'macd_32_96', 'rtn_1', 'rtn_21', 'rtn_63', 'rtn_126', 'rtn_252', 'rtn_next_day', 'macd_8_24', 'macd_16_28', 'macd_32_96', 'rtn_1', 'rtn_21', 'rtn_63', 'rtn_126', 'rtn_252', 'rtn_next_day', 'macd_8_24', 'macd_16_28', 'macd_32_96', 'rtn_1', 'rtn_21', 'rtn_63', 'rtn_126', 'rtn_252', 'rtn_next_day', 'macd_8_24', 'macd_16_28', 'macd_32_96', 'rtn_1', 'rtn_21', 'rtn_63', 'rtn_126', 'rtn_252', 'rtn_next_day', 'macd_8_24', 'macd_16_28', 'macd_32_96', 'rtn_1', 'rtn_21', 'rtn_63', 'rtn_126', 'rtn_252', 'rtn_next_day', 'macd_8_24', 'macd_16_28', 'macd_32_96', 'rtn_1', 'rtn_21', 'rtn_63', 'rtn_126', 'rtn_252', 'rtn_next_day', 'macd_8_24', 'macd_16_28', 'macd_32_96', 'rtn_1', 'rtn_21', 'rtn_63', 'rtn_126', 'rtn_252', 'rtn_next_day', 'macd_8_24', 'macd_16_28', 'macd_32_96', 'rtn_1', 'rtn_21', 'rtn_63', 'rtn_126', 'rtn_252', 'rtn_next_day', 'macd_8_24', 'macd_16_28', 'macd_32_96', 'rtn_1', 'rtn_21', 'rtn_63', 'rtn_126', 'rtn_252', 'rtn_next_day', 'macd_8_24', 'macd_16_28', 'macd_32_96', 'rtn_1', 'rtn_21', 'rtn_63', 'rtn_126', 'rtn_252', 'rtn_next_day', 'macd_8_24', 'macd_16_28', 'macd_32_96', 'rtn_1', 'rtn_21', 'rtn_63', 'rtn_126', 'rtn_252', 'rtn_next_day', 'macd_8_24', 'macd_16_28', 'macd_32_96', 'rtn_1', 'rtn_21', 'rtn_63', 'rtn_126', 'rtn_252', 'rtn_next_day', 'macd_8_24', 'macd_16_28', 'macd_32_96', 'rtn_1', 'rtn_21', 'rtn_63', 'rtn_126', 'rtn_252', 'rtn_next_day', 'macd_8_24', 'macd_16_28', 'macd_32_96', 'rtn_1', 'rtn_21', 'rtn_63', 'rtn_126', 'rtn_252', 'rtn_next_day', 'macd_8_24', 'macd_16_28', 'macd_32_96', 'rtn_1', 'rtn_21', 'rtn_63', 'rtn_126', 'rtn_252', 'rtn_next_day', 'macd_8_24', 'macd_16_28', 'macd_32_96', 'rtn_1', 'rtn_21', 'rtn_63', 'rtn_126', 'rtn_252', 'rtn_next_day', 'macd_8_24', 'macd_16_28', 'macd_32_96', 'rtn_1', 'rtn_21', 'rtn_63', 'rtn_126', 'rtn_252', 'rtn_next_day', 'macd_8_24', 'macd_16_28', 'macd_32_96', 'rtn_1', 'rtn_21', 'rtn_63', 'rtn_126', 'rtn_252', 'rtn_next_day', 'macd_8_24', 'macd_16_28', 'macd_32_96', 'rtn_1', 'rtn_21', 'rtn_63', 'rtn_126', 'rtn_252', 'rtn_next_day', 'macd_8_24', 'macd_16_28', 'macd_32_96', 'rtn_1', 'rtn_21', 'rtn_63', 'rtn_126', 'rtn_252', 'rtn_next_day', 'macd_8_24', 'macd_16_28', 'macd_32_96', 'rtn_1', 'rtn_21', 'rtn_63', 'rtn_126', 'rtn_252', 'rtn_next_day', 'macd_8_24', 'macd_16_28', 'macd_32_96', 'rtn_1', 'rtn_21', 'rtn_63', 'rtn_126', 'rtn_252', 'rtn_next_day', 'macd_8_24', 'macd_16_28', 'macd_32_96', 'rtn_1', 'rtn_21', 'rtn_63', 'rtn_126', 'rtn_252', 'rtn_next_day', 'macd_8_24', 'macd_16_28', 'macd_32_96', 'rtn_1', 'rtn_21', 'rtn_63', 'rtn_126', 'rtn_252', 'rtn_next_day', 'macd_8_24', 'macd_16_28', 'macd_32_96', 'rtn_1', 'rtn_21', 'rtn_63', 'rtn_126', 'rtn_252', 'rtn_next_day', 'macd_8_24', 'macd_16_28', 'macd_32_96', 'rtn_1', 'rtn_21', 'rtn_63', 'rtn_126', 'rtn_252', 'rtn_next_day', 'macd_8_24', 'macd_16_28', 'macd_32_96', 'rtn_1', 'rtn_21', 'rtn_63', 'rtn_126', 'rtn_252', 'rtn_next_day', 'macd_8_24', 'macd_16_28', 'macd_32_96', 'rtn_1', 'rtn_21', 'rtn_63', 'rtn_126', 'rtn_252', 'rtn_next_day', 'macd_8_24', 'macd_16_28', 'macd_32_96', 'rtn_1', 'rtn_21', 'rtn_63', 'rtn_126', 'rtn_252', 'rtn_next_day', 'macd_8_24', 'macd_16_28', 'macd_32_96', 'rtn_1', 'rtn_21', 'rtn_63', 'rtn_126', 'rtn_252', 'rtn_next_day', 'macd_8_24', 'macd_16_28', 'macd_32_96', 'rtn_1', 'rtn_21', 'rtn_63', 'rtn_126', 'rtn_252', 'rtn_next_day', 'macd_8_24', 'macd_16_28', 'macd_32_96', 'rtn_1', 'rtn_21', 'rtn_63', 'rtn_126', 'rtn_252', 'rtn_next_day', 'macd_8_24', 'macd_16_28', 'macd_32_96', 'rtn_1', 'rtn_21', 'rtn_63', 'rtn_126', 'rtn_252', 'rtn_next_day', 'macd_8_24', 'macd_16_28', 'macd_32_96', 'rtn_1', 'rtn_21', 'rtn_63', 'rtn_126', 'rtn_252', 'rtn_next_day', 'macd_8_24', 'macd_16_28', 'macd_32_96', 'rtn_1', 'rtn_21', 'rtn_63', 'rtn_126', 'rtn_252', 'rtn_next_day', 'macd_8_24', 'macd_16_28', 'macd_32_96', 'rtn_1', 'rtn_21', 'rtn_63', 'rtn_126', 'rtn_252', 'rtn_next_day', 'macd_8_24', 'macd_16_28', 'macd_32_96', 'rtn_1', 'rtn_21', 'rtn_63', 'rtn_126', 'rtn_252', 'rtn_next_day', 'macd_8_24', 'macd_16_28', 'macd_32_96', 'rtn_1', 'rtn_21', 'rtn_63', 'rtn_126', 'rtn_252', 'rtn_next_day', 'macd_8_24', 'macd_16_28', 'macd_32_96', 'rtn_1', 'rtn_21', 'rtn_63', 'rtn_126', 'rtn_252', 'rtn_next_day', 'macd_8_24', 'macd_16_28', 'macd_32_96', 'rtn_1', 'rtn_21', 'rtn_63', 'rtn_126', 'rtn_252', 'rtn_next_day', 'macd_8_24', 'macd_16_28', 'macd_32_96', 'rtn_1', 'rtn_21', 'rtn_63', 'rtn_126', 'rtn_252', 'rtn_next_day', 'macd_8_24', 'macd_16_28', 'macd_32_96', 'rtn_1', 'rtn_21', 'rtn_63', 'rtn_126', 'rtn_252', 'rtn_next_day', 'macd_8_24', 'macd_16_28', 'macd_32_96', 'rtn_1', 'rtn_21', 'rtn_63', 'rtn_126', 'rtn_252', 'rtn_next_day', 'macd_8_24', 'macd_16_28', 'macd_32_96', 'rtn_1', 'rtn_21', 'rtn_63', 'rtn_126', 'rtn_252', 'rtn_next_day', 'macd_8_24', 'macd_16_28', 'macd_32_96', 'rtn_1', 'rtn_21', 'rtn_63', 'rtn_126', 'rtn_252', 'rtn_next_day', 'macd_8_24', 'macd_16_28', 'macd_32_96', 'rtn_1', 'rtn_21', 'rtn_63', 'rtn_126', 'rtn_252', 'rtn_next_day', 'macd_8_24', 'macd_16_28', 'macd_32_96', 'rtn_1', 'rtn_21', 'rtn_63', 'rtn_126', 'rtn_252', 'rtn_next_day', 'macd_8_24', 'macd_16_28', 'macd_32_96', 'rtn_1', 'rtn_21', 'rtn_63', 'rtn_126', 'rtn_252', 'rtn_next_day', 'macd_8_24', 'macd_16_28', 'macd_32_96', 'rtn_1', 'rtn_21', 'rtn_63', 'rtn_126', 'rtn_252', 'rtn_next_day', 'macd_8_24', 'macd_16_28', 'macd_32_96', 'rtn_1', 'rtn_21', 'rtn_63', 'rtn_126', 'rtn_252', 'rtn_next_day', 'macd_8_24', 'macd_16_28', 'macd_32_96', 'rtn_1', 'rtn_21', 'rtn_63', 'rtn_126', 'rtn_252', 'rtn_next_day', 'macd_8_24', 'macd_16_28', 'macd_32_96', 'rtn_1', 'rtn_21', 'rtn_63', 'rtn_126', 'rtn_252', 'rtn_next_day', 'macd_8_24', 'macd_16_28', 'macd_32_96', 'rtn_1', 'rtn_21', 'rtn_63', 'rtn_126', 'rtn_252', 'rtn_next_day', 'macd_8_24', 'macd_16_28', 'macd_32_96', 'rtn_1', 'rtn_21', 'rtn_63', 'rtn_126', 'rtn_252', 'rtn_next_day', 'macd_8_24', 'macd_16_28', 'macd_32_96', 'rtn_1', 'rtn_21', 'rtn_63', 'rtn_126', 'rtn_252', 'rtn_next_day', 'macd_8_24', 'macd_16_28', 'macd_32_96', 'rtn_1', 'rtn_21', 'rtn_63', 'rtn_126', 'rtn_252', 'rtn_next_day', 'macd_8_24', 'macd_16_28', 'macd_32_96', 'rtn_1', 'rtn_21', 'rtn_63', 'rtn_126', 'rtn_252', 'rtn_next_day', 'macd_8_24', 'macd_16_28', 'macd_32_96', 'rtn_1', 'rtn_21', 'rtn_63', 'rtn_126', 'rtn_252', 'rtn_next_day', 'macd_8_24', 'macd_16_28', 'macd_32_96', 'rtn_1', 'rtn_21', 'rtn_63', 'rtn_126', 'rtn_252'] to EagerTensor of dtype float",
     "output_type": "error",
     "traceback": [
      "\u001b[1;31m---------------------------------------------------------------------------\u001b[0m",
      "\u001b[1;31mTypeError\u001b[0m                                 Traceback (most recent call last)",
      "Cell \u001b[1;32mIn[99], line 13\u001b[0m\n\u001b[0;32m     11\u001b[0m side_info_tensor \u001b[38;5;241m=\u001b[39m tf\u001b[38;5;241m.\u001b[39mragged\u001b[38;5;241m.\u001b[39mconstant(side_info, dtype\u001b[38;5;241m=\u001b[39mtf\u001b[38;5;241m.\u001b[39mstring)\n\u001b[0;32m     12\u001b[0m dates_tensor \u001b[38;5;241m=\u001b[39m tf\u001b[38;5;241m.\u001b[39mconstant(date_list, dtype\u001b[38;5;241m=\u001b[39mtf\u001b[38;5;241m.\u001b[39mstring)\n\u001b[1;32m---> 13\u001b[0m feature_sequences_tensor \u001b[38;5;241m=\u001b[39m \u001b[43mtf\u001b[49m\u001b[38;5;241;43m.\u001b[39;49m\u001b[43mragged\u001b[49m\u001b[38;5;241;43m.\u001b[39;49m\u001b[43mconstant\u001b[49m\u001b[43m(\u001b[49m\u001b[43mfeatures\u001b[49m\u001b[43m,\u001b[49m\u001b[43m \u001b[49m\u001b[43mdtype\u001b[49m\u001b[38;5;241;43m=\u001b[39;49m\u001b[43mtf\u001b[49m\u001b[38;5;241;43m.\u001b[39;49m\u001b[43mfloat32\u001b[49m\u001b[43m)\u001b[49m\n",
      "File \u001b[1;32mc:\\Users\\jrfundoffice02\\anaconda3\\envs\\xtrend-env\\Lib\\site-packages\\tensorflow\\python\\util\\traceback_utils.py:153\u001b[0m, in \u001b[0;36mfilter_traceback.<locals>.error_handler\u001b[1;34m(*args, **kwargs)\u001b[0m\n\u001b[0;32m    151\u001b[0m \u001b[38;5;28;01mexcept\u001b[39;00m \u001b[38;5;167;01mException\u001b[39;00m \u001b[38;5;28;01mas\u001b[39;00m e:\n\u001b[0;32m    152\u001b[0m   filtered_tb \u001b[38;5;241m=\u001b[39m _process_traceback_frames(e\u001b[38;5;241m.\u001b[39m__traceback__)\n\u001b[1;32m--> 153\u001b[0m   \u001b[38;5;28;01mraise\u001b[39;00m e\u001b[38;5;241m.\u001b[39mwith_traceback(filtered_tb) \u001b[38;5;28;01mfrom\u001b[39;00m \u001b[38;5;28;01mNone\u001b[39;00m\n\u001b[0;32m    154\u001b[0m \u001b[38;5;28;01mfinally\u001b[39;00m:\n\u001b[0;32m    155\u001b[0m   \u001b[38;5;28;01mdel\u001b[39;00m filtered_tb\n",
      "File \u001b[1;32mc:\\Users\\jrfundoffice02\\anaconda3\\envs\\xtrend-env\\Lib\\site-packages\\tensorflow\\python\\framework\\constant_op.py:108\u001b[0m, in \u001b[0;36mconvert_to_eager_tensor\u001b[1;34m(value, ctx, dtype)\u001b[0m\n\u001b[0;32m    106\u001b[0m     dtype \u001b[38;5;241m=\u001b[39m dtypes\u001b[38;5;241m.\u001b[39mas_dtype(dtype)\u001b[38;5;241m.\u001b[39mas_datatype_enum\n\u001b[0;32m    107\u001b[0m ctx\u001b[38;5;241m.\u001b[39mensure_initialized()\n\u001b[1;32m--> 108\u001b[0m \u001b[38;5;28;01mreturn\u001b[39;00m \u001b[43mops\u001b[49m\u001b[38;5;241;43m.\u001b[39;49m\u001b[43mEagerTensor\u001b[49m\u001b[43m(\u001b[49m\u001b[43mvalue\u001b[49m\u001b[43m,\u001b[49m\u001b[43m \u001b[49m\u001b[43mctx\u001b[49m\u001b[38;5;241;43m.\u001b[39;49m\u001b[43mdevice_name\u001b[49m\u001b[43m,\u001b[49m\u001b[43m \u001b[49m\u001b[43mdtype\u001b[49m\u001b[43m)\u001b[49m\n",
      "\u001b[1;31mTypeError\u001b[0m: Cannot convert ['rtn_next_day', 'macd_8_24', 'macd_16_28', 'macd_32_96', 'rtn_1', 'rtn_21', 'rtn_63', 'rtn_126', 'rtn_252', 'rtn_next_day', 'macd_8_24', 'macd_16_28', 'macd_32_96', 'rtn_1', 'rtn_21', 'rtn_63', 'rtn_126', 'rtn_252', 'rtn_next_day', 'macd_8_24', 'macd_16_28', 'macd_32_96', 'rtn_1', 'rtn_21', 'rtn_63', 'rtn_126', 'rtn_252', 'rtn_next_day', 'macd_8_24', 'macd_16_28', 'macd_32_96', 'rtn_1', 'rtn_21', 'rtn_63', 'rtn_126', 'rtn_252', 'rtn_next_day', 'macd_8_24', 'macd_16_28', 'macd_32_96', 'rtn_1', 'rtn_21', 'rtn_63', 'rtn_126', 'rtn_252', 'rtn_next_day', 'macd_8_24', 'macd_16_28', 'macd_32_96', 'rtn_1', 'rtn_21', 'rtn_63', 'rtn_126', 'rtn_252', 'rtn_next_day', 'macd_8_24', 'macd_16_28', 'macd_32_96', 'rtn_1', 'rtn_21', 'rtn_63', 'rtn_126', 'rtn_252', 'rtn_next_day', 'macd_8_24', 'macd_16_28', 'macd_32_96', 'rtn_1', 'rtn_21', 'rtn_63', 'rtn_126', 'rtn_252', 'rtn_next_day', 'macd_8_24', 'macd_16_28', 'macd_32_96', 'rtn_1', 'rtn_21', 'rtn_63', 'rtn_126', 'rtn_252', 'rtn_next_day', 'macd_8_24', 'macd_16_28', 'macd_32_96', 'rtn_1', 'rtn_21', 'rtn_63', 'rtn_126', 'rtn_252', 'rtn_next_day', 'macd_8_24', 'macd_16_28', 'macd_32_96', 'rtn_1', 'rtn_21', 'rtn_63', 'rtn_126', 'rtn_252', 'rtn_next_day', 'macd_8_24', 'macd_16_28', 'macd_32_96', 'rtn_1', 'rtn_21', 'rtn_63', 'rtn_126', 'rtn_252', 'rtn_next_day', 'macd_8_24', 'macd_16_28', 'macd_32_96', 'rtn_1', 'rtn_21', 'rtn_63', 'rtn_126', 'rtn_252', 'rtn_next_day', 'macd_8_24', 'macd_16_28', 'macd_32_96', 'rtn_1', 'rtn_21', 'rtn_63', 'rtn_126', 'rtn_252', 'rtn_next_day', 'macd_8_24', 'macd_16_28', 'macd_32_96', 'rtn_1', 'rtn_21', 'rtn_63', 'rtn_126', 'rtn_252', 'rtn_next_day', 'macd_8_24', 'macd_16_28', 'macd_32_96', 'rtn_1', 'rtn_21', 'rtn_63', 'rtn_126', 'rtn_252', 'rtn_next_day', 'macd_8_24', 'macd_16_28', 'macd_32_96', 'rtn_1', 'rtn_21', 'rtn_63', 'rtn_126', 'rtn_252', 'rtn_next_day', 'macd_8_24', 'macd_16_28', 'macd_32_96', 'rtn_1', 'rtn_21', 'rtn_63', 'rtn_126', 'rtn_252', 'rtn_next_day', 'macd_8_24', 'macd_16_28', 'macd_32_96', 'rtn_1', 'rtn_21', 'rtn_63', 'rtn_126', 'rtn_252', 'rtn_next_day', 'macd_8_24', 'macd_16_28', 'macd_32_96', 'rtn_1', 'rtn_21', 'rtn_63', 'rtn_126', 'rtn_252', 'rtn_next_day', 'macd_8_24', 'macd_16_28', 'macd_32_96', 'rtn_1', 'rtn_21', 'rtn_63', 'rtn_126', 'rtn_252', 'rtn_next_day', 'macd_8_24', 'macd_16_28', 'macd_32_96', 'rtn_1', 'rtn_21', 'rtn_63', 'rtn_126', 'rtn_252', 'rtn_next_day', 'macd_8_24', 'macd_16_28', 'macd_32_96', 'rtn_1', 'rtn_21', 'rtn_63', 'rtn_126', 'rtn_252', 'rtn_next_day', 'macd_8_24', 'macd_16_28', 'macd_32_96', 'rtn_1', 'rtn_21', 'rtn_63', 'rtn_126', 'rtn_252', 'rtn_next_day', 'macd_8_24', 'macd_16_28', 'macd_32_96', 'rtn_1', 'rtn_21', 'rtn_63', 'rtn_126', 'rtn_252', 'rtn_next_day', 'macd_8_24', 'macd_16_28', 'macd_32_96', 'rtn_1', 'rtn_21', 'rtn_63', 'rtn_126', 'rtn_252', 'rtn_next_day', 'macd_8_24', 'macd_16_28', 'macd_32_96', 'rtn_1', 'rtn_21', 'rtn_63', 'rtn_126', 'rtn_252', 'rtn_next_day', 'macd_8_24', 'macd_16_28', 'macd_32_96', 'rtn_1', 'rtn_21', 'rtn_63', 'rtn_126', 'rtn_252', 'rtn_next_day', 'macd_8_24', 'macd_16_28', 'macd_32_96', 'rtn_1', 'rtn_21', 'rtn_63', 'rtn_126', 'rtn_252', 'rtn_next_day', 'macd_8_24', 'macd_16_28', 'macd_32_96', 'rtn_1', 'rtn_21', 'rtn_63', 'rtn_126', 'rtn_252', 'rtn_next_day', 'macd_8_24', 'macd_16_28', 'macd_32_96', 'rtn_1', 'rtn_21', 'rtn_63', 'rtn_126', 'rtn_252', 'rtn_next_day', 'macd_8_24', 'macd_16_28', 'macd_32_96', 'rtn_1', 'rtn_21', 'rtn_63', 'rtn_126', 'rtn_252', 'rtn_next_day', 'macd_8_24', 'macd_16_28', 'macd_32_96', 'rtn_1', 'rtn_21', 'rtn_63', 'rtn_126', 'rtn_252', 'rtn_next_day', 'macd_8_24', 'macd_16_28', 'macd_32_96', 'rtn_1', 'rtn_21', 'rtn_63', 'rtn_126', 'rtn_252', 'rtn_next_day', 'macd_8_24', 'macd_16_28', 'macd_32_96', 'rtn_1', 'rtn_21', 'rtn_63', 'rtn_126', 'rtn_252', 'rtn_next_day', 'macd_8_24', 'macd_16_28', 'macd_32_96', 'rtn_1', 'rtn_21', 'rtn_63', 'rtn_126', 'rtn_252', 'rtn_next_day', 'macd_8_24', 'macd_16_28', 'macd_32_96', 'rtn_1', 'rtn_21', 'rtn_63', 'rtn_126', 'rtn_252', 'rtn_next_day', 'macd_8_24', 'macd_16_28', 'macd_32_96', 'rtn_1', 'rtn_21', 'rtn_63', 'rtn_126', 'rtn_252', 'rtn_next_day', 'macd_8_24', 'macd_16_28', 'macd_32_96', 'rtn_1', 'rtn_21', 'rtn_63', 'rtn_126', 'rtn_252', 'rtn_next_day', 'macd_8_24', 'macd_16_28', 'macd_32_96', 'rtn_1', 'rtn_21', 'rtn_63', 'rtn_126', 'rtn_252', 'rtn_next_day', 'macd_8_24', 'macd_16_28', 'macd_32_96', 'rtn_1', 'rtn_21', 'rtn_63', 'rtn_126', 'rtn_252', 'rtn_next_day', 'macd_8_24', 'macd_16_28', 'macd_32_96', 'rtn_1', 'rtn_21', 'rtn_63', 'rtn_126', 'rtn_252', 'rtn_next_day', 'macd_8_24', 'macd_16_28', 'macd_32_96', 'rtn_1', 'rtn_21', 'rtn_63', 'rtn_126', 'rtn_252', 'rtn_next_day', 'macd_8_24', 'macd_16_28', 'macd_32_96', 'rtn_1', 'rtn_21', 'rtn_63', 'rtn_126', 'rtn_252', 'rtn_next_day', 'macd_8_24', 'macd_16_28', 'macd_32_96', 'rtn_1', 'rtn_21', 'rtn_63', 'rtn_126', 'rtn_252', 'rtn_next_day', 'macd_8_24', 'macd_16_28', 'macd_32_96', 'rtn_1', 'rtn_21', 'rtn_63', 'rtn_126', 'rtn_252', 'rtn_next_day', 'macd_8_24', 'macd_16_28', 'macd_32_96', 'rtn_1', 'rtn_21', 'rtn_63', 'rtn_126', 'rtn_252', 'rtn_next_day', 'macd_8_24', 'macd_16_28', 'macd_32_96', 'rtn_1', 'rtn_21', 'rtn_63', 'rtn_126', 'rtn_252', 'rtn_next_day', 'macd_8_24', 'macd_16_28', 'macd_32_96', 'rtn_1', 'rtn_21', 'rtn_63', 'rtn_126', 'rtn_252', 'rtn_next_day', 'macd_8_24', 'macd_16_28', 'macd_32_96', 'rtn_1', 'rtn_21', 'rtn_63', 'rtn_126', 'rtn_252', 'rtn_next_day', 'macd_8_24', 'macd_16_28', 'macd_32_96', 'rtn_1', 'rtn_21', 'rtn_63', 'rtn_126', 'rtn_252', 'rtn_next_day', 'macd_8_24', 'macd_16_28', 'macd_32_96', 'rtn_1', 'rtn_21', 'rtn_63', 'rtn_126', 'rtn_252', 'rtn_next_day', 'macd_8_24', 'macd_16_28', 'macd_32_96', 'rtn_1', 'rtn_21', 'rtn_63', 'rtn_126', 'rtn_252', 'rtn_next_day', 'macd_8_24', 'macd_16_28', 'macd_32_96', 'rtn_1', 'rtn_21', 'rtn_63', 'rtn_126', 'rtn_252', 'rtn_next_day', 'macd_8_24', 'macd_16_28', 'macd_32_96', 'rtn_1', 'rtn_21', 'rtn_63', 'rtn_126', 'rtn_252', 'rtn_next_day', 'macd_8_24', 'macd_16_28', 'macd_32_96', 'rtn_1', 'rtn_21', 'rtn_63', 'rtn_126', 'rtn_252', 'rtn_next_day', 'macd_8_24', 'macd_16_28', 'macd_32_96', 'rtn_1', 'rtn_21', 'rtn_63', 'rtn_126', 'rtn_252', 'rtn_next_day', 'macd_8_24', 'macd_16_28', 'macd_32_96', 'rtn_1', 'rtn_21', 'rtn_63', 'rtn_126', 'rtn_252', 'rtn_next_day', 'macd_8_24', 'macd_16_28', 'macd_32_96', 'rtn_1', 'rtn_21', 'rtn_63', 'rtn_126', 'rtn_252', 'rtn_next_day', 'macd_8_24', 'macd_16_28', 'macd_32_96', 'rtn_1', 'rtn_21', 'rtn_63', 'rtn_126', 'rtn_252', 'rtn_next_day', 'macd_8_24', 'macd_16_28', 'macd_32_96', 'rtn_1', 'rtn_21', 'rtn_63', 'rtn_126', 'rtn_252', 'rtn_next_day', 'macd_8_24', 'macd_16_28', 'macd_32_96', 'rtn_1', 'rtn_21', 'rtn_63', 'rtn_126', 'rtn_252', 'rtn_next_day', 'macd_8_24', 'macd_16_28', 'macd_32_96', 'rtn_1', 'rtn_21', 'rtn_63', 'rtn_126', 'rtn_252', 'rtn_next_day', 'macd_8_24', 'macd_16_28', 'macd_32_96', 'rtn_1', 'rtn_21', 'rtn_63', 'rtn_126', 'rtn_252', 'rtn_next_day', 'macd_8_24', 'macd_16_28', 'macd_32_96', 'rtn_1', 'rtn_21', 'rtn_63', 'rtn_126', 'rtn_252', 'rtn_next_day', 'macd_8_24', 'macd_16_28', 'macd_32_96', 'rtn_1', 'rtn_21', 'rtn_63', 'rtn_126', 'rtn_252', 'rtn_next_day', 'macd_8_24', 'macd_16_28', 'macd_32_96', 'rtn_1', 'rtn_21', 'rtn_63', 'rtn_126', 'rtn_252', 'rtn_next_day', 'macd_8_24', 'macd_16_28', 'macd_32_96', 'rtn_1', 'rtn_21', 'rtn_63', 'rtn_126', 'rtn_252', 'rtn_next_day', 'macd_8_24', 'macd_16_28', 'macd_32_96', 'rtn_1', 'rtn_21', 'rtn_63', 'rtn_126', 'rtn_252', 'rtn_next_day', 'macd_8_24', 'macd_16_28', 'macd_32_96', 'rtn_1', 'rtn_21', 'rtn_63', 'rtn_126', 'rtn_252', 'rtn_next_day', 'macd_8_24', 'macd_16_28', 'macd_32_96', 'rtn_1', 'rtn_21', 'rtn_63', 'rtn_126', 'rtn_252', 'rtn_next_day', 'macd_8_24', 'macd_16_28', 'macd_32_96', 'rtn_1', 'rtn_21', 'rtn_63', 'rtn_126', 'rtn_252', 'rtn_next_day', 'macd_8_24', 'macd_16_28', 'macd_32_96', 'rtn_1', 'rtn_21', 'rtn_63', 'rtn_126', 'rtn_252', 'rtn_next_day', 'macd_8_24', 'macd_16_28', 'macd_32_96', 'rtn_1', 'rtn_21', 'rtn_63', 'rtn_126', 'rtn_252', 'rtn_next_day', 'macd_8_24', 'macd_16_28', 'macd_32_96', 'rtn_1', 'rtn_21', 'rtn_63', 'rtn_126', 'rtn_252', 'rtn_next_day', 'macd_8_24', 'macd_16_28', 'macd_32_96', 'rtn_1', 'rtn_21', 'rtn_63', 'rtn_126', 'rtn_252', 'rtn_next_day', 'macd_8_24', 'macd_16_28', 'macd_32_96', 'rtn_1', 'rtn_21', 'rtn_63', 'rtn_126', 'rtn_252', 'rtn_next_day', 'macd_8_24', 'macd_16_28', 'macd_32_96', 'rtn_1', 'rtn_21', 'rtn_63', 'rtn_126', 'rtn_252', 'rtn_next_day', 'macd_8_24', 'macd_16_28', 'macd_32_96', 'rtn_1', 'rtn_21', 'rtn_63', 'rtn_126', 'rtn_252', 'rtn_next_day', 'macd_8_24', 'macd_16_28', 'macd_32_96', 'rtn_1', 'rtn_21', 'rtn_63', 'rtn_126', 'rtn_252', 'rtn_next_day', 'macd_8_24', 'macd_16_28', 'macd_32_96', 'rtn_1', 'rtn_21', 'rtn_63', 'rtn_126', 'rtn_252', 'rtn_next_day', 'macd_8_24', 'macd_16_28', 'macd_32_96', 'rtn_1', 'rtn_21', 'rtn_63', 'rtn_126', 'rtn_252', 'rtn_next_day', 'macd_8_24', 'macd_16_28', 'macd_32_96', 'rtn_1', 'rtn_21', 'rtn_63', 'rtn_126', 'rtn_252', 'rtn_next_day', 'macd_8_24', 'macd_16_28', 'macd_32_96', 'rtn_1', 'rtn_21', 'rtn_63', 'rtn_126', 'rtn_252', 'rtn_next_day', 'macd_8_24', 'macd_16_28', 'macd_32_96', 'rtn_1', 'rtn_21', 'rtn_63', 'rtn_126', 'rtn_252', 'rtn_next_day', 'macd_8_24', 'macd_16_28', 'macd_32_96', 'rtn_1', 'rtn_21', 'rtn_63', 'rtn_126', 'rtn_252', 'rtn_next_day', 'macd_8_24', 'macd_16_28', 'macd_32_96', 'rtn_1', 'rtn_21', 'rtn_63', 'rtn_126', 'rtn_252', 'rtn_next_day', 'macd_8_24', 'macd_16_28', 'macd_32_96', 'rtn_1', 'rtn_21', 'rtn_63', 'rtn_126', 'rtn_252', 'rtn_next_day', 'macd_8_24', 'macd_16_28', 'macd_32_96', 'rtn_1', 'rtn_21', 'rtn_63', 'rtn_126', 'rtn_252', 'rtn_next_day', 'macd_8_24', 'macd_16_28', 'macd_32_96', 'rtn_1', 'rtn_21', 'rtn_63', 'rtn_126', 'rtn_252', 'rtn_next_day', 'macd_8_24', 'macd_16_28', 'macd_32_96', 'rtn_1', 'rtn_21', 'rtn_63', 'rtn_126', 'rtn_252', 'rtn_next_day', 'macd_8_24', 'macd_16_28', 'macd_32_96', 'rtn_1', 'rtn_21', 'rtn_63', 'rtn_126', 'rtn_252', 'rtn_next_day', 'macd_8_24', 'macd_16_28', 'macd_32_96', 'rtn_1', 'rtn_21', 'rtn_63', 'rtn_126', 'rtn_252', 'rtn_next_day', 'macd_8_24', 'macd_16_28', 'macd_32_96', 'rtn_1', 'rtn_21', 'rtn_63', 'rtn_126', 'rtn_252', 'rtn_next_day', 'macd_8_24', 'macd_16_28', 'macd_32_96', 'rtn_1', 'rtn_21', 'rtn_63', 'rtn_126', 'rtn_252', 'rtn_next_day', 'macd_8_24', 'macd_16_28', 'macd_32_96', 'rtn_1', 'rtn_21', 'rtn_63', 'rtn_126', 'rtn_252', 'rtn_next_day', 'macd_8_24', 'macd_16_28', 'macd_32_96', 'rtn_1', 'rtn_21', 'rtn_63', 'rtn_126', 'rtn_252', 'rtn_next_day', 'macd_8_24', 'macd_16_28', 'macd_32_96', 'rtn_1', 'rtn_21', 'rtn_63', 'rtn_126', 'rtn_252', 'rtn_next_day', 'macd_8_24', 'macd_16_28', 'macd_32_96', 'rtn_1', 'rtn_21', 'rtn_63', 'rtn_126', 'rtn_252', 'rtn_next_day', 'macd_8_24', 'macd_16_28', 'macd_32_96', 'rtn_1', 'rtn_21', 'rtn_63', 'rtn_126', 'rtn_252', 'rtn_next_day', 'macd_8_24', 'macd_16_28', 'macd_32_96', 'rtn_1', 'rtn_21', 'rtn_63', 'rtn_126', 'rtn_252', 'rtn_next_day', 'macd_8_24', 'macd_16_28', 'macd_32_96', 'rtn_1', 'rtn_21', 'rtn_63', 'rtn_126', 'rtn_252', 'rtn_next_day', 'macd_8_24', 'macd_16_28', 'macd_32_96', 'rtn_1', 'rtn_21', 'rtn_63', 'rtn_126', 'rtn_252', 'rtn_next_day', 'macd_8_24', 'macd_16_28', 'macd_32_96', 'rtn_1', 'rtn_21', 'rtn_63', 'rtn_126', 'rtn_252', 'rtn_next_day', 'macd_8_24', 'macd_16_28', 'macd_32_96', 'rtn_1', 'rtn_21', 'rtn_63', 'rtn_126', 'rtn_252', 'rtn_next_day', 'macd_8_24', 'macd_16_28', 'macd_32_96', 'rtn_1', 'rtn_21', 'rtn_63', 'rtn_126', 'rtn_252', 'rtn_next_day', 'macd_8_24', 'macd_16_28', 'macd_32_96', 'rtn_1', 'rtn_21', 'rtn_63', 'rtn_126', 'rtn_252', 'rtn_next_day', 'macd_8_24', 'macd_16_28', 'macd_32_96', 'rtn_1', 'rtn_21', 'rtn_63', 'rtn_126', 'rtn_252'] to EagerTensor of dtype float"
     ]
    }
   ],
   "source": [
    "feature_cols = gaussion_process_list[0].columns.to_list()\n",
    "for col in (\"date\", \"sigma\", \"side_info\", \"close\", \"rtn\"):\n",
    "    feature_cols.remove(col)\n",
    "    \n",
    "features = [df[feature_cols] for df in gaussion_process_list if len(df) > 0]\n",
    "date_list = [str(df[\"date\"].values[-1]) for df in gaussion_process_list if len(df) > 0]\n",
    "side_info = [df[\"side_info\"] for df in gaussion_process_list if len(df) > 0]\n",
    "rtn_next_day = [df[\"rtn_next_day\"] for df in gaussion_process_list if len(df) > 0]\n",
    "std = [df[\"sigma\"] for df in gaussion_process_list if len(df) > 0]\n",
    "\n",
    "side_info_tensor = tf.ragged.constant(side_info, dtype=tf.string)\n",
    "dates_tensor = tf.constant(date_list, dtype=tf.string)\n",
    "feature_sequences_tensor = tf.ragged.constant(features, dtype=tf.float32)"
   ]
  },
  {
   "cell_type": "code",
   "execution_count": null,
   "metadata": {},
   "outputs": [],
   "source": []
  }
 ],
 "metadata": {
  "kernelspec": {
   "display_name": "xtrend-env",
   "language": "python",
   "name": "python3"
  },
  "language_info": {
   "codemirror_mode": {
    "name": "ipython",
    "version": 3
   },
   "file_extension": ".py",
   "mimetype": "text/x-python",
   "name": "python",
   "nbconvert_exporter": "python",
   "pygments_lexer": "ipython3",
   "version": "3.11.9"
  }
 },
 "nbformat": 4,
 "nbformat_minor": 2
}
