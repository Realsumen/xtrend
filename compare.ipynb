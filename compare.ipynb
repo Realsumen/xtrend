{
 "cells": [
  {
   "cell_type": "code",
   "execution_count": null,
   "metadata": {},
   "outputs": [],
   "source": [
    "def read_file(file_path):\n",
    "    with open(file_path, 'r') as file:\n",
    "        lines = file.readlines()\n",
    "    return sorted(set(line.strip() for line in lines))\n",
    "\n",
    "def compare_env_files(file1, file2):\n",
    "    env1 = read_file(file1)\n",
    "    env2 = read_file(file2)\n",
    "\n",
    "    only_in_env1 = set(env1) - set(env2)\n",
    "    only_in_env2 = set(env2) - set(env1)\n",
    "    in_both = set(env1) & set(env2)\n",
    "\n",
    "    return only_in_env1, only_in_env2, in_both\n",
    "\n",
    "file1_path = 'win_env.txt'\n",
    "file2_path = 'mac_env.txt'\n",
    "\n",
    "only_in_env1, only_in_env2, in_both = compare_env_files(file1_path, file2_path)\n",
    "\n",
    "print(f\"Only in {file1_path}:\")\n",
    "print(\"\\n\".join(only_in_env1))\n",
    "\n",
    "print(f\"\\nOnly in {file2_path}:\")\n",
    "print(\"\\n\".join(only_in_env2))\n",
    "\n",
    "print(f\"\\nIn both files:\")\n",
    "print(\"\\n\".join(in_both))\n"
   ]
  },
  {
   "cell_type": "code",
   "execution_count": 2,
   "metadata": {},
   "outputs": [
    {
     "data": {
      "text/plain": [
       "20"
      ]
     },
     "execution_count": 2,
     "metadata": {},
     "output_type": "execute_result"
    }
   ],
   "source": [
    "import os\n",
    "os.cpu_count()"
   ]
  },
  {
   "cell_type": "code",
   "execution_count": null,
   "metadata": {},
   "outputs": [],
   "source": []
  }
 ],
 "metadata": {
  "kernelspec": {
   "display_name": "xtrend-env",
   "language": "python",
   "name": "python3"
  },
  "language_info": {
   "codemirror_mode": {
    "name": "ipython",
    "version": 3
   },
   "file_extension": ".py",
   "mimetype": "text/x-python",
   "name": "python",
   "nbconvert_exporter": "python",
   "pygments_lexer": "ipython3",
   "version": "3.11.9"
  }
 },
 "nbformat": 4,
 "nbformat_minor": 2
}
